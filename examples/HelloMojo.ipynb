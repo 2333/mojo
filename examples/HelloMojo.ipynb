{
 "cells": [
  {
   "attachments": {},
   "cell_type": "markdown",
   "metadata": {},
   "source": [
    "# Mojo🔥 Guided Tour"
   ]
  },
  {
   "attachments": {},
   "cell_type": "markdown",
   "metadata": {},
   "source": [
    "Mojo is designed to be a superset of Python, and so many of the functions that\n",
    "you are already familiar with are present in Mojo.  For instance, a \"hello\n",
    "world\" program in Mojo would look exactly like it does in Python:"
   ]
  },
  {
   "cell_type": "code",
   "execution_count": null,
   "metadata": {
    "vscode": {
     "languageId": "python"
    }
   },
   "outputs": [],
   "source": [
    "#| CHECK: Hello Mojo!\n",
    "print(\"Hello Mojo!\")"
   ]
  },
  {
   "attachments": {},
   "cell_type": "markdown",
   "metadata": {},
   "source": [
    "But on top of what Python can do, Mojo provides a set of new powerful features,\n",
    "and we will go over some of them in this notebook. Fore more details and\n",
    "rationale for these features please refer to the Mojo Programming Manual.\n",
    "\n",
    "This notebook assumes familiarity with Python and focuses on what's different in\n",
    "Mojo. If you'd like to learn more about Python, please refer to [Python\n",
    "documentation](https://docs.python.org/) or other resources."
   ]
  },
  {
   "attachments": {},
   "cell_type": "markdown",
   "metadata": {},
   "source": [
    "## Basic Systems Programming Extensions"
   ]
  },
  {
   "attachments": {},
   "cell_type": "markdown",
   "metadata": {},
   "source": [
    "### `'let'` and ‘`var'` declarations"
   ]
  },
  {
   "attachments": {},
   "cell_type": "markdown",
   "metadata": {},
   "source": [
    "Inside a `'def'` in Mojo, you may assign to a name and it implicitly creates a\n",
    "function scope variable just like in Python. This provides a very dynamic and\n",
    "low ceremony way to write code, but is a challenge for two reasons:\n",
    "1) systems programmers often want to declare that a value is immutable, and\n",
    "2) they may want to control the lifetime of a value, particularly if that value\n",
    "has a destructor.\n",
    "\n",
    "To support this, Mojo supports `‘let’` and `‘var’` declarations which introduce a\n",
    "new scoped runtime value: ‘`let`’ is immutable and ‘`var`’ is mutable. These\n",
    "values use lexical scoping and support name shadowing:"
   ]
  },
  {
   "cell_type": "code",
   "execution_count": null,
   "metadata": {
    "vscode": {
     "languageId": "python"
    }
   },
   "outputs": [],
   "source": [
    "def your_function(a, b):\n",
    "    let c = a\n",
    "    c = b  # error: c is immutable\n",
    "\n",
    "    if c != b:\n",
    "        var c = b\n",
    "        # stuff()"
   ]
  },
  {
   "attachments": {},
   "cell_type": "markdown",
   "metadata": {},
   "source": [
    "`‘let’` and `‘var’` declarations support type specifiers as well as patterns,\n",
    "and late initialization:"
   ]
  },
  {
   "cell_type": "code",
   "execution_count": null,
   "metadata": {
    "vscode": {
     "languageId": "python"
    }
   },
   "outputs": [],
   "source": [
    "def foo():\n",
    "    return 3.14\n",
    "\n",
    "def your_function():\n",
    "    let x: Int = 42\n",
    "    let y: F64 = 17.0\n",
    "\n",
    "    var (a, b) = (x, y)\n",
    "\n",
    "    var z: F32\n",
    "    if x != 0:\n",
    "        z = 1.0\n",
    "    else:\n",
    "        z = foo()\n",
    "    print(z)"
   ]
  },
  {
   "attachments": {},
   "cell_type": "markdown",
   "metadata": {},
   "source": [
    "### `'struct'` Types"
   ]
  },
  {
   "attachments": {},
   "cell_type": "markdown",
   "metadata": {},
   "source": [
    "‘`struct`’ declarations in Mojo are similar in many ways to classes: they\n",
    "support methods, fields, operator overloading, decorators for meta programming\n",
    "(TODO), etc. On the other hand, where classes are extremely dynamic with\n",
    "dynamic dispatch, dynamic method swizzling, and dynamically bound instance\n",
    "properties, structs are static, bound at compile time, and are stored inlined\n",
    "into their container instead of being implicitly indirect and reference\n",
    "counted.\n",
    "\n",
    "Here’s a simple definition of a struct:\n"
   ]
  },
  {
   "cell_type": "code",
   "execution_count": null,
   "metadata": {
    "vscode": {
     "languageId": "python"
    }
   },
   "outputs": [],
   "source": [
    "struct MyPair:\n",
    "    var first: Int\n",
    "    var second: Int\n",
    "\n",
    "    def __init__(self&, first: Int, second: Int):\n",
    "        self.first = first\n",
    "        self.second = second\n",
    "\n",
    "    def __lt__(self, rhs: MyPair) -> Bool:\n",
    "        return self.first < rhs.first or\n",
    "              (self.first == rhs.first and\n",
    "                self.second < rhs.second)"
   ]
  },
  {
   "attachments": {},
   "cell_type": "markdown",
   "metadata": {},
   "source": [
    "As you can see, Mojo structs are very similar to classes, the biggest\n",
    "difference is that all instance properties _must_ be explicitly declared with a\n",
    "`‘var’` or `‘let’` declaration. This allows the Mojo compiler to lay out and access\n",
    "the value precisely in memory without indirection or other overhead. Struct\n",
    "fields are bound statically: they aren’t looked up with a dictionary\n",
    "indirection. As such, you cannot ‘`del`’ a method or reassign it at runtime.\n",
    "This enables the Mojo compiler to perform guaranteed static dispatch, use\n",
    "guaranteed static access to fields, and inline `MyPair` into the stack frame or\n",
    "enclosing type that uses it without indirection or other overheads.\n",
    "\n",
    "You might be wondering what the “`&`” means on the `self` argument: this\n",
    "indicates that the value is mutable, please see the “By-Reference” arguments\n",
    "section below."
   ]
  },
  {
   "attachments": {},
   "cell_type": "markdown",
   "metadata": {},
   "source": [
    "### Strong type checking"
   ]
  },
  {
   "attachments": {},
   "cell_type": "markdown",
   "metadata": {},
   "source": [
    "Another feature of structs is that a `struct` definition defines a\n",
    "compile-time-bound name, and references to that name in a type context are\n",
    "treated as a strong specification for the value being defined. For example,\n",
    "consider the following code:"
   ]
  },
  {
   "cell_type": "code",
   "execution_count": null,
   "metadata": {
    "vscode": {
     "languageId": "python"
    }
   },
   "outputs": [],
   "source": [
    "def pairTest() -> Bool:\n",
    "    let p = MyPair(1, 2)\n",
    "    return p < 4 # gives a compile time error"
   ]
  },
  {
   "attachments": {},
   "cell_type": "markdown",
   "metadata": {},
   "source": [
    "If you attempt to run this code, you’ll get a compile time error telling you\n",
    "that “`4`” cannot be converted to `MyPair`, which is what the rhs of `__lt__`\n",
    "requires.\n"
   ]
  },
  {
   "attachments": {},
   "cell_type": "markdown",
   "metadata": {},
   "source": [
    "### Overloaded functions & methods"
   ]
  },
  {
   "attachments": {},
   "cell_type": "markdown",
   "metadata": {},
   "source": [
    "While strong type checking is good for predictability, control, and safety, it\n",
    "forces you to keep the type checker happy. This can be a challenge when you\n",
    "want to define expressive APIs that “just work” because some methods should\n",
    "accept many different static types, and shouldn’t require the user of the API\n",
    "to remember different names for all the different use cases.\n",
    "\n",
    "To solve this problem, Mojo offers full support for “overloaded methods”. This\n",
    "is a common feature seen in many programming languages (including C++, Java,\n",
    "Swift, etc) where you can define the same function name with multiple different\n",
    "signatures. When resolving a function call, Mojo will try each candidate and\n",
    "use the one that works (if only one works), pick the closest match (if it can\n",
    "determine a close match) or report the call as being ambiguous if it can’t\n",
    "figure out which one to pick. In the latter case, you can resolve the ambiguity\n",
    "by adding an explicit cast on the call site. Let’s look at an example:"
   ]
  },
  {
   "cell_type": "code",
   "execution_count": null,
   "metadata": {
    "vscode": {
     "languageId": "python"
    }
   },
   "outputs": [],
   "source": [
    "struct Array[T: AnyType]:\n",
    "    fn __getitem__(self, idx: Int) -> T: ...\n",
    "    fn __getitem__(self, idx: Range) -> ArraySlice: ..."
   ]
  },
  {
   "attachments": {},
   "cell_type": "markdown",
   "metadata": {},
   "source": [
    "The compiler follows the same approach as (e.g.) a C++ compiler does to resolve\n",
    "which candidate to pick for a given call: it filters out candidates that cannot\n",
    "work for a callsite, then ranks the remaining ones based on the number of\n",
    "implicit conversions that are required. If there is an ambiguity, the compiler\n",
    "reports an error. Mojo doesn’t support overloading solely on result type, and\n",
    "doesn’t use result type or contextual type information for type inference,\n",
    "keeping things simple, fast, and predictable."
   ]
  },
  {
   "attachments": {},
   "cell_type": "markdown",
   "metadata": {},
   "source": [
    "### `'fn'` Definitions"
   ]
  },
  {
   "attachments": {},
   "cell_type": "markdown",
   "metadata": {},
   "source": [
    "The extensions above are the cornerstone that provides low-level programming\n",
    "and provide abstraction capabilities, but many systems programmers prefer more\n",
    "control and predictability than what ‘`def`’ in Mojo provides. To recap, ‘`def`’ is\n",
    "defined by necessity to be very dynamic, flexible and generally compatible with\n",
    "Python: arguments are mutable, local variables are implicitly declared on first\n",
    "use, and scoping isn’t enforced. This is great for high level programming and\n",
    "scripting, but is not always great for systems programming. To complement this,\n",
    "Mojo provides an ‘`fn`’ declaration which is like a “strict mode” for ‘`def'`.\n",
    "\n",
    "‘`fn`’ and ‘`def`’ are always interchangeable from an interface level: there is\n",
    "nothing a ‘`def`’ can provide that a ‘`fn`’ cannot (or vice versa). The\n",
    "difference is that a ‘`fn`’ is more limited and controlled on the _inside_ of\n",
    "its body (alternatively, pedantic and strict). Specifically, ‘`fn`’s have a\n",
    "number of limitations compared to ‘`def`’s:\n",
    "\n",
    "1. Argument values default to being immutable in the body of the function (like\n",
    "a ‘`let`’), instead of mutable (like a ‘`var`’). This catches accidental\n",
    "mutations, and permits the use of non-copyable types as arguments.\n",
    "\n",
    "2. Argument values require a type specification (except for `self` in a\n",
    "method), catching accidental omission of type specifications. Similarly, a\n",
    "missing return type specifier is interpreted as returning `None` instead of an\n",
    "unknown return type. Note that both can be explicitly declared to return\n",
    "`'object'`, which allows one to opt-in to the behavior of a `def` if desired.\n",
    "\n",
    "3. Implicit declaration of local variables is disabled, so all locals must be\n",
    "declared. This catches name typos and dovetails with the scoping provided by\n",
    "`‘let’` and `‘var’`.\n",
    "\n",
    "4. Both support raising exceptions, but this must be explicitly declared on a\n",
    "`‘fn’` with the `@raises` decorator."
   ]
  },
  {
   "attachments": {},
   "cell_type": "markdown",
   "metadata": {},
   "source": [
    "### The`__copyinit__` Special Method"
   ]
  },
  {
   "attachments": {},
   "cell_type": "markdown",
   "metadata": {},
   "source": [
    "Mojo supports full “value semantics” as seen in languages like C++, and more\n",
    "advanced support than languages like Swift and Rust because it supports\n",
    "non-movable types like Atomic. This is accessed by implementing special methods\n",
    "like `__init__` and `__del__` on structs, which give control over the lifetime\n",
    "of the logical value maintained by that struct. For example, consider a dynamic\n",
    "string type that needs to allocate memory for the string data when constructed\n",
    "and destroy it when the value is destroyed:"
   ]
  },
  {
   "cell_type": "code",
   "execution_count": null,
   "metadata": {
    "vscode": {
     "languageId": "python"
    }
   },
   "outputs": [],
   "source": [
    "struct MyString:\n",
    "    var data: Pointer[Int8]\n",
    "\n",
    "    # StringRef has a data + length field\n",
    "    def __init__(self&, input: StringRef):\n",
    "        let data = Pointer[Int8].alloc(input.length+1)\n",
    "        data.memcpy(first.data, input.length)\n",
    "        data[input.length] = 0\n",
    "        self.data = Pointer[Int8](data)\n",
    "\n",
    "    def __del__(self):\n",
    "        self.data.free()\n"
   ]
  },
  {
   "attachments": {},
   "cell_type": "markdown",
   "metadata": {},
   "source": [
    "This string type is implemented in terms of traditional C `malloc()`/`free()`\n",
    "calls to show a simple example of how this works. A more realistic string type\n",
    "would use inline allocation and other fancy tricks to reduce allocation\n",
    "overhead in standard cases, but this is simple and demonstrates the issue.\n",
    "\n",
    "If you go ahead and try this out, you might be surprised:"
   ]
  },
  {
   "cell_type": "code",
   "execution_count": null,
   "metadata": {
    "vscode": {
     "languageId": "python"
    }
   },
   "outputs": [],
   "source": [
    "fn useStrings():\n",
    "    var a: MyString = \"hello\"\n",
    "    print(a)   # Should print \"hello\"\n",
    "    var b = a  # ERROR: MyString doesn't implement __copyinit__\n",
    "\n",
    "    a = \"Goodbye\"\n",
    "    print(b)   # Should print \"hello\"\n",
    "    print(a)   # Should print \"Goodbye\""
   ]
  },
  {
   "attachments": {},
   "cell_type": "markdown",
   "metadata": {},
   "source": [
    "The compiler isn’t allowing us to make a copy of our string: MyString contains\n",
    "an instance of Pointer (which is equivalent to a low-level C pointer), and Mojo\n",
    "can’t know “what the pointer means” or “how to copy it” - this is one reason\n",
    "why application level programmers should use higher level types like arrays and\n",
    "slices! More generally, some types (like atomic numbers) cannot be copied or\n",
    "moved around at all, because their address provides an **identity** just like a\n",
    "class instance does.\n",
    "\n",
    "In this case, we do want our string to be copyable around, to enable this, we\n",
    "implement the `__copyinit__` special method, which is conventionally\n",
    "implemented like this:"
   ]
  },
  {
   "cell_type": "code",
   "execution_count": null,
   "metadata": {
    "vscode": {
     "languageId": "python"
    }
   },
   "outputs": [],
   "source": [
    "struct MyString:\n",
    "    var data: Pointer[Int8]\n",
    "\n",
    "    # StringRef has a data + length field\n",
    "    def __init__(self&, input: StringRef):\n",
    "        let data = Pointer[Int8].alloc(input.length+1)\n",
    "        data.memcpy(first.data, input.length)\n",
    "        data[input.length] = 0\n",
    "        self.data = Pointer[Int8](data)\n",
    "\n",
    "    def __del__(self):\n",
    "        self.data.free()\n",
    "\n",
    "    def __copyinit__(self&, existing: Self):\n",
    "        self.data = Pointer(strdup(self.data.address))"
   ]
  },
  {
   "attachments": {},
   "cell_type": "markdown",
   "metadata": {},
   "source": [
    "With this implementation, our code above works correctly and the “b = a” copy\n",
    "produces a logically distinct instance of the string with its own lifetime and\n",
    "data. The copy is made with the C strdup`()` function as instructed by the\n",
    "lines of code above.\n",
    "\n",
    "Mojo provides full control over the lifetime of a value, including the ability\n",
    "to make types copyable, move-only, and not-movable. This is more control than\n",
    "languages like Swift and Rust, which require values to at least be movable. If\n",
    "you are curious how `existing` can be passed into the `__copyinit__` method\n",
    "without itself creating a copy, check out the section on \"Borrowed\" argument\n",
    "convention below."
   ]
  },
  {
   "attachments": {},
   "cell_type": "markdown",
   "metadata": {},
   "source": [
    "## Parameterization: Compile time meta-programming"
   ]
  },
  {
   "attachments": {},
   "cell_type": "markdown",
   "metadata": {},
   "source": [
    "Mojo supports a full compile-time metaprogramming functionality built into the\n",
    "compiler as a separate stage of compilation - after parsing, semantic analysis,\n",
    "and IR generation, but before lowering to target-specific code. It uses the same\n",
    "host language for runtime programs as it does for metaprograms, and leverages\n",
    "MLIR to represent and evaluate these programs in a predictable way.\n",
    "\n",
    "Let’s take a look at some simple examples."
   ]
  },
  {
   "attachments": {},
   "cell_type": "markdown",
   "metadata": {},
   "source": [
    "### Defining parameterized types and functions"
   ]
  },
  {
   "attachments": {},
   "cell_type": "markdown",
   "metadata": {},
   "source": [
    "Mojo structs and functions may each be parameterized, but an example can help\n",
    "motivate why we care. Let’s look at a\n",
    "“[SIMD](https://en.wikipedia.org/wiki/Single_instruction,_multiple_data)” type,\n",
    "which represents a low-level vector register in hardware that holds multiple\n",
    "instances of a scalar data-type. Hardware accelerators these days are getting\n",
    "exotic datatypes, and it isn’t uncommon to work with CPUs that have 512-bit or\n",
    "longer SIMD vectors. There is a lot of diversity in hardware (including many\n",
    "brands like SSE, AVX-512, NEON, SVE, RVV, etc) but many operations are common\n",
    "and used by numerics and ML kernel developers - this type exposes them to Mojo\n",
    "programmers.\n",
    "\n",
    "Here is a (cut down) version of the SIMD API in the Mojo standard library:"
   ]
  },
  {
   "cell_type": "code",
   "execution_count": null,
   "metadata": {
    "vscode": {
     "languageId": "python"
    }
   },
   "outputs": [],
   "source": [
    "struct SIMD[type: DType, size: Int]:\n",
    "    var value: … # Some low-level MLIR stuff here\n",
    "\n",
    "    # Create a new SIMD from a number of scalars\n",
    "    fn __init__(self&, *elems: SIMD[type, 1]):  ...\n",
    "\n",
    "    # Fill a SIMD with a duplicated scalar value.\n",
    "    @staticmethod\n",
    "    fn splat(x: SIMD[type, 1]) -> SIMD[type, size]: ...\n",
    "\n",
    "    # Cast the elements of the SIMD to a different elt type.\n",
    "    fn cast[target: DType](self) -> SIMD[target, size]: ...\n",
    "\n",
    "    # Many standard operators are supported.\n",
    "    fn __add__(self, rhs: Self) -> Self: ..."
   ]
  },
  {
   "attachments": {},
   "cell_type": "markdown",
   "metadata": {},
   "source": [
    "Parameters in Mojo are declared in square brackets using an extended version of\n",
    "the [PEP695 syntax](https://peps.python.org/pep-0695/). They are named and have\n",
    "types like normal values in a Mojo program, but they are evaluated at compile\n",
    "time instead of runtime by the target program. The runtime program may use the\n",
    "value of parameters - because the parameters are resolved at compile time\n",
    "before they are needed by the runtime program - but the compile time parameter\n",
    "expressions may not use runtime values.\n",
    "\n",
    "In the case of the `SIMD` excerpt above, there are three declared parameters:\n",
    "the SIMD struct is parameterized by a ‘`size`’ parameter and a ‘`type`’\n",
    "parameter. The ‘`cast`’ method is further parameterized with a ‘`target`’\n",
    "parameter. Because SIMD is a parameterized type, the type of a ‘self’ argument\n",
    "carries the parameters - the full type name is “`SIMD[type, size]`”. While it\n",
    "is always valid to write this out (as shown in the return type of `splat`),\n",
    "this can be verbose: we recommend using the `Self` type (from\n",
    "[PEP673](https://peps.python.org/pep-0673/)) like the `__add__` example does."
   ]
  },
  {
   "attachments": {},
   "cell_type": "markdown",
   "metadata": {},
   "source": [
    "### Using parameterized types and functions"
   ]
  },
  {
   "attachments": {},
   "cell_type": "markdown",
   "metadata": {},
   "source": [
    "For this type, the ‘size’ specifies the number of elements in a SIMD vector and\n",
    "the type specifies the element type - for example, you might use a “4xFloat” to\n",
    "represent a small floating point vector, or a “32xbfloat16’s” on an AVX-512\n",
    "system with the ‘bfloat16’ machine learning type:"
   ]
  },
  {
   "cell_type": "code",
   "execution_count": null,
   "metadata": {
    "vscode": {
     "languageId": "python"
    }
   },
   "outputs": [],
   "source": [
    "fn funWithSIMD():\n",
    "    # Make a vector of 4 floats.\n",
    "    let smallVec = SIMD[DType.f32, 4](1.0, 2.0, 3.0, 4.0)\n",
    "\n",
    "    # Make a big vector containing 1.0 in bfloat16 format.\n",
    "    let bigVec = SIMD[DType.bf16, 32].splat(1.0)\n",
    "\n",
    "    # Do some math and convert the elements to float32.\n",
    "    let biggerVec = (bigVec+bigVec).cast[DType.f32]()\n",
    "\n",
    "    # You can write types out explicitly if you want of course.\n",
    "    let biggerVec2 : SIMD[DType.f32, 32] = biggerVec\n"
   ]
  },
  {
   "attachments": {},
   "cell_type": "markdown",
   "metadata": {},
   "source": [
    "Note that the “cast” method needs an additional parameter to indicate what type\n",
    "to cast to: that is handled by parameterizing the call to “cast”. The example\n",
    "above shows the use of concrete types, but the major power of parameters comes\n",
    "from the ability to define parametric algorithms and types, e.g. it is quite\n",
    "easy to define parametric algorithms, e.g. ones that are length- and\n",
    "DType-agnostic:\n"
   ]
  },
  {
   "cell_type": "code",
   "execution_count": null,
   "metadata": {
    "vscode": {
     "languageId": "python"
    }
   },
   "outputs": [],
   "source": [
    "fn rsqrt[width: Int, dt: DType](x: SIMD[dt, width]) -> SIMD[dt, width]:\n",
    "    return 1 / sqrt(x)"
   ]
  },
  {
   "attachments": {},
   "cell_type": "markdown",
   "metadata": {},
   "source": [
    "The Mojo compiler is fairly smart about type inference with parameters. Note\n",
    "that this function is able to call the parametric “`sqrt(x)`” function without\n",
    "specifying the parameters, the compiler infers its parameters as if you wrote\n",
    "“`sqrt[width,type](x)`” explicitly. Also note that “`rsqrt`” chose to define\n",
    "its first parameter named “width” but the SIMD type names it “`size`” without\n",
    "challenge."
   ]
  },
  {
   "attachments": {},
   "cell_type": "markdown",
   "metadata": {},
   "source": [
    "### Parameters expressions are just Mojo code"
   ]
  },
  {
   "attachments": {},
   "cell_type": "markdown",
   "metadata": {},
   "source": [
    "All parameters and parameter expressions are typed using the same type system\n",
    "as the runtime program: ‘Int’ and ‘DType’ are implemented in the Mojo standard\n",
    "library as structs. Parameters are quite powerful, supporting the use of\n",
    "expressions with operators, function calls etc at compile time, just like a\n",
    "runtime program. This enables the use of many ‘dependent type’ features, for\n",
    "example, you might want to define a helper function to concatenate two SIMD\n",
    "vectors:"
   ]
  },
  {
   "cell_type": "code",
   "execution_count": null,
   "metadata": {
    "vscode": {
     "languageId": "python"
    }
   },
   "outputs": [],
   "source": [
    "fn concat[len1: Int, len2: Int, ty: DType](\n",
    "    lhs: SIMD[ty, len1], rhs: SIMD[ty, len2]) -> SIMD[len1+len2, ty]:\n",
    "        ...\n",
    "\n",
    "fn use_vectors(a: SIMD[DType.f32, 4], b: SIMD[DType.f16, 8]):\n",
    "    let x = concat(a, a)  # Length = 8\n",
    "    let y = concat(b, b)  # Length = 16\n"
   ]
  },
  {
   "attachments": {},
   "cell_type": "markdown",
   "metadata": {},
   "source": [
    "Note how the result length is the sum of the input vector lengths, and you can\n",
    "express that with a simple + operation. In practice, the SIMD type only allows\n",
    "power of two length vectors, so this isn’t actually needed in this example, but\n",
    "having a powerful and expressive type equations can enable powerful and elegant\n",
    "API designs. For a more complex example, take a look at the `SIMD.shuffle`\n",
    "method in the standard library: it takes two input SIMD values, a vector\n",
    "shuffle mask as a list, and returns a SIMD that matches the length of the\n",
    "shuffle mask."
   ]
  },
  {
   "attachments": {},
   "cell_type": "markdown",
   "metadata": {},
   "source": [
    "### Powerful Compile-time Programming"
   ]
  },
  {
   "attachments": {},
   "cell_type": "markdown",
   "metadata": {},
   "source": [
    "While simple expressions are useful, sometimes you want to write imperative\n",
    "compile-time logic with control flow. For example, the “isclose” function in\n",
    "Math.mojo uses exact equality for integers but “close” comparison for floating\n",
    "point. You can even do compile time recursion, e.g. here is an example “tree\n",
    "reduction” algorithm that sums all elements of a vector recursively into a\n",
    "scalar:"
   ]
  },
  {
   "cell_type": "code",
   "execution_count": null,
   "metadata": {
    "vscode": {
     "languageId": "python"
    }
   },
   "outputs": [],
   "source": [
    "struct SIMD[size: Int, type: DType]:\n",
    "    ...\n",
    "    fn reduce_add(self) -> SIMD[type, 1]:\n",
    "        @parameter\n",
    "        if size == 1:\n",
    "            return self[0]\n",
    "        elif size == 2:\n",
    "            return self[0] + self[1]\n",
    "\n",
    "        # Extract the top/bottom halves, add them, sum the elements.\n",
    "        alias half_size = size // 2\n",
    "        let lhs = self.slice[half_size](0)\n",
    "        let rhs = self.slice[half_size](half_size)\n",
    "        return (lhs + rhs).reduce_add()"
   ]
  },
  {
   "attachments": {},
   "cell_type": "markdown",
   "metadata": {},
   "source": [
    "This makes use of two new features: `'@parameter if'` is an if statement that\n",
    "runs at compile time. It requires that its condition be a valid parameter\n",
    "expression, and ensures that only the live branch of the if is compiled into\n",
    "the program. This example also introduces the `'alias'` declaration, which is\n",
    "like `‘let’` but which is guaranteed to be evaluated at compile time.\n"
   ]
  },
  {
   "attachments": {},
   "cell_type": "markdown",
   "metadata": {},
   "source": [
    "### Mojo Types are just Parameter Expressions"
   ]
  },
  {
   "attachments": {},
   "cell_type": "markdown",
   "metadata": {},
   "source": [
    "While we’ve shown how you can use parameter expressions within types, in both\n",
    "Python and Mojo, type annotations can themselves be arbitrary expressions.\n",
    "Types in Mojo have a special metatype type, allowing type-parametric algorithms\n",
    "and functions to be defined, for example one can define an algorithm like the\n",
    "C++ `std::vector` class like this:"
   ]
  },
  {
   "cell_type": "code",
   "execution_count": null,
   "metadata": {
    "vscode": {
     "languageId": "python"
    }
   },
   "outputs": [],
   "source": [
    "struct DynamicVector[type: AnyType]:\n",
    "        ...\n",
    "    fn reserve(self&, new_capacity: Int): ...\n",
    "    fn push_back(self&, value: type): ...\n",
    "    fn pop_back(self&): ...\n",
    "    fn __getitem__(self, i: Int) -> type: ...\n",
    "    fn __setitem__(self&, i: Int, value: type): ...\n",
    "\n",
    "fn use_vector():\n",
    "    var v = DynamicVector[Int]()\n",
    "    v.push_back(17)\n",
    "    v.push_back(42)\n",
    "    v[0] = 123\n",
    "    print(v[1])      # Prints 42\n",
    "    print(v[0])      # Prints 123"
   ]
  },
  {
   "attachments": {},
   "cell_type": "markdown",
   "metadata": {},
   "source": [
    "Notice that the ‘type’ parameter is being used as the formal type for the\n",
    "‘value’ arguments and the return type of the `__getitem__` function. Parameters\n",
    "allow the `DynamicVector` type to provide different APIs based on the different\n",
    "use-cases. There are many other cases that benefit from more advanced use\n",
    "cases. For example, the parallel processing library defines the\n",
    "parallelForEachN algorithm, which executes a closure N times in parallel,\n",
    "feeding in a value from the context. That value can be of any type:"
   ]
  },
  {
   "cell_type": "code",
   "execution_count": null,
   "metadata": {
    "vscode": {
     "languageId": "python"
    }
   },
   "outputs": [],
   "source": [
    "fn parallelize[\n",
    "    func: Function[(Int), None]\n",
    "](rt: Runtime, num_work_items: Int):\n",
    "    # Not actually parallel: see Functional.mojo for real impl.\n",
    "    for i in range(num_work_items):\n",
    "        func(i)"
   ]
  },
  {
   "attachments": {},
   "cell_type": "markdown",
   "metadata": {},
   "source": [
    "This is possible because the ‘func’ parameter is allowed to refer to the\n",
    "earlier ‘arg_type’ parameter, and that refines its type in turn.\n",
    "\n",
    "We don’t have full support for variadic parameter lists, but we expect this to\n",
    "work soon:"
   ]
  },
  {
   "cell_type": "code",
   "execution_count": null,
   "metadata": {
    "vscode": {
     "languageId": "python"
    }
   },
   "outputs": [],
   "source": [
    "struct Tuple[*ElementTys: AnyType]:\n",
    "    var _storage : ElementTys"
   ]
  },
  {
   "attachments": {},
   "cell_type": "markdown",
   "metadata": {},
   "source": [
    "which will allow us to fully define Tuple (and related types like Function) in\n",
    "the standard library."
   ]
  },
  {
   "attachments": {},
   "cell_type": "markdown",
   "metadata": {},
   "source": [
    "### `alias`: Named Parameter Expressions"
   ]
  },
  {
   "attachments": {},
   "cell_type": "markdown",
   "metadata": {},
   "source": [
    "It is very common to want to name compile time values. Whereas ‘var’ defines a\n",
    "runtime value, and ‘let’ defines a runtime constant, we need a way to define a\n",
    "compile time temporary value. For this, Mojo uses an ‘`alias`’ declaration. For\n",
    "example, the DType struct implements a simple enum using aliases for the\n",
    "enumerators like this (the actual internal implementation details vary a bit):"
   ]
  },
  {
   "cell_type": "code",
   "execution_count": null,
   "metadata": {
    "vscode": {
     "languageId": "python"
    }
   },
   "outputs": [],
   "source": [
    "struct DType:\n",
    "    var value : Int8\n",
    "    alias invalid = DType(0)\n",
    "    alias bool = DType(1)\n",
    "    alias si8 = DType(2)\n",
    "    alias ui8 = DType(3)\n",
    "    alias si16 = DType(4)\n",
    "    alias ui16 = DType(5)\n",
    "    ...\n",
    "    alias f32 = DType(15)\n"
   ]
  },
  {
   "attachments": {},
   "cell_type": "markdown",
   "metadata": {},
   "source": [
    "This allows clients to use ‘DType.f32’ as a parameter expression (which also\n",
    "works as a runtime value of course) naturally. Note that this is invoking the\n",
    "runtime constructor for DType at compile time.\n",
    "\n",
    "Type are another common use for alias: because types are just compile time\n",
    "expressions, it is very handy to be able to do things like this:"
   ]
  },
  {
   "cell_type": "code",
   "execution_count": null,
   "metadata": {
    "vscode": {
     "languageId": "python"
    }
   },
   "outputs": [],
   "source": [
    "alias F32 = SIMD[DType.f32, 1]\n",
    "alias UI8 = SIMD[DType.ui8, 1]\n",
    "\n",
    "var x : F32   # F32 works like a \"typedef\""
   ]
  },
  {
   "attachments": {},
   "cell_type": "markdown",
   "metadata": {},
   "source": [
    "Like `‘var’` and `‘let’`, aliases obey scope and you can use local aliases\n",
    "within functions as you’d expect."
   ]
  },
  {
   "attachments": {},
   "cell_type": "markdown",
   "metadata": {},
   "source": [
    "\n",
    "### Autotuning / Adaptive compilation"
   ]
  },
  {
   "attachments": {},
   "cell_type": "markdown",
   "metadata": {},
   "source": [
    "TBD"
   ]
  },
  {
   "attachments": {},
   "cell_type": "markdown",
   "metadata": {},
   "source": [
    "## Argument Passing Control and Memory Ownership\n"
   ]
  },
  {
   "attachments": {},
   "cell_type": "markdown",
   "metadata": {},
   "source": [
    "In both Python and Mojo, much of the language revolves around function calls: a\n",
    "lot of the (apparently) built-in functionality is implemented in the standard\n",
    "library with “dunder” methods. Mojo takes this a step further than Python, by\n",
    "putting the most basic things (like integers and the object type itself) into\n",
    "the standard library."
   ]
  },
  {
   "attachments": {},
   "cell_type": "markdown",
   "metadata": {},
   "source": [
    "### Why argument conventions are important"
   ]
  },
  {
   "attachments": {},
   "cell_type": "markdown",
   "metadata": {},
   "source": [
    "In Python all fundamental values are references to objects - a Python\n",
    "programmer typically thinks about the programming model as everything being\n",
    "reference semantic. However, at the CPython or machine level, we can see that\n",
    "the references themselves are actually passed _by-copy_, by copying the pointer\n",
    "and adjusting reference counts.\n",
    "\n",
    "Mojo on the other hand provides full control over value copies, aliasing of\n",
    "references, and mutations."
   ]
  },
  {
   "attachments": {},
   "cell_type": "markdown",
   "metadata": {},
   "source": [
    "### By-Reference Arguments"
   ]
  },
  {
   "attachments": {},
   "cell_type": "markdown",
   "metadata": {},
   "source": [
    "Let’s start with the simple case: passing mutable references to values vs\n",
    "passing immutable references. As we already know, arguments that are passed to\n",
    "fn’s are immutable by default:"
   ]
  },
  {
   "cell_type": "code",
   "execution_count": null,
   "metadata": {
    "vscode": {
     "languageId": "python"
    }
   },
   "outputs": [],
   "source": [
    "struct Int:\n",
    "    # self and rhs are both immutable in __add__.\n",
    "    fn __add__(self, rhs: Int) -> Int: ...\n",
    "\n",
    "    # ... but this cannot work for __iadd__\n",
    "    fn __iadd__(self, rhs: Int):\n",
    "        self = self + rhs  # ERROR: cannot assign to self!\n"
   ]
  },
  {
   "attachments": {},
   "cell_type": "markdown",
   "metadata": {},
   "source": [
    "The problem here is that `__iadd__` needs to mutate the internal state of the\n",
    "integer. The solution in Mojo is to declare that the argument is passed “by\n",
    "reference” by using the & marker on the argument name (self in this case):"
   ]
  },
  {
   "cell_type": "code",
   "execution_count": null,
   "metadata": {
    "vscode": {
     "languageId": "python"
    }
   },
   "outputs": [],
   "source": [
    "struct Int:\n",
    "    # ...\n",
    "    fn __iadd__(self&, rhs: Int):\n",
    "        self = self + rhs    # OK\n"
   ]
  },
  {
   "attachments": {},
   "cell_type": "markdown",
   "metadata": {},
   "source": [
    "Because this argument is passed by-reference, the ‘self’ argument is mutable in\n",
    "the callee, and any changes are visible in the caller - even if the caller has\n",
    "a non-trivial computation to access it, like an array subscript:\n"
   ]
  },
  {
   "cell_type": "code",
   "execution_count": null,
   "metadata": {
    "vscode": {
     "languageId": "python"
    }
   },
   "outputs": [],
   "source": [
    "\n",
    "fn show_mutation():\n",
    "    var x = 42\n",
    "    x += 1\n",
    "    print(x)    # prints 43 of course\n",
    "\n",
    "    var a = InlinedFixedVector[16, Int](...)\n",
    "    a[4] = 7\n",
    "    a[4] += 1\n",
    "    print(a[4])  # Prints 8\n",
    "\n",
    "    let y = x\n",
    "    y += 1       # ERROR: Cannot mutate 'let' value"
   ]
  },
  {
   "attachments": {},
   "cell_type": "markdown",
   "metadata": {},
   "source": [
    "Mojo implements the in-place mutation of the InlinedFixedVector element by\n",
    "emitting a call to `__getitem__` into a temporary buffer, followed by a store\n",
    "with `__setitem__` after the call. Mutation of the ‘let’ value fails because it\n",
    "isn’t possible to form a mutable reference to an immutable value. Similarly,\n",
    "the compiler rejects attempts to use a subscript with a by-ref argument if it\n",
    "implements `__getitem__` but not `__setitem__`.\n",
    "\n",
    "There is nothing special about ‘self’ in Mojo, and you can have multiple\n",
    "different by-ref arguments. For example, you can define and use a swap function\n",
    "like this:\n"
   ]
  },
  {
   "cell_type": "code",
   "execution_count": 4,
   "metadata": {
    "vscode": {
     "languageId": "python"
    }
   },
   "outputs": [],
   "source": [
    "fn swap(lhs&: Int, rhs&: Int):\n",
    "  let tmp = lhs\n",
    "  lhs = rhs\n",
    "  rhs = tmp\n",
    "\n",
    "fn show_swap():\n",
    "    var x = 42\n",
    "    var y = 12\n",
    "    swap(x, y)\n",
    "    print(x)  # Prints 12\n",
    "    print(y)  # Prints 42"
   ]
  },
  {
   "attachments": {},
   "cell_type": "markdown",
   "metadata": {},
   "source": [
    "### “Borrowed” Argument Convention\n"
   ]
  },
  {
   "attachments": {},
   "cell_type": "markdown",
   "metadata": {},
   "source": [
    "Now that we know how by-reference argument passing works, you may wonder how\n",
    "by-value argument passing works and how that interacts with the `__copyinit__`\n",
    "method which implements copy constructors. In Mojo, the default convention for\n",
    "passing arguments to functions is to pass with the “borrowed” argument\n",
    "convention. You can spell this out explicitly if you’d like:\n"
   ]
  },
  {
   "cell_type": "code",
   "execution_count": null,
   "metadata": {
    "vscode": {
     "languageId": "python"
    }
   },
   "outputs": [],
   "source": [
    "\n",
    "fn useSomethingBig(borrowed a: SomethingBig, b: SomethingBig):\n",
    "    \"\"\"'a' and 'b' are passed the same, because 'borrowed' is the default.\"\"\"\n",
    "    a.print_id()\n",
    "    b.print_id()"
   ]
  },
  {
   "attachments": {},
   "cell_type": "markdown",
   "metadata": {},
   "source": [
    "This default applies to all arguments uniformly, including the `self` argument\n",
    "of methods. The borrowed convention passes an _immutable reference_ to the\n",
    "value from the caller’s context, instead of copying the value. This is much\n",
    "more efficient when passing large values, or when passing expensive values like\n",
    "a reference counted pointer (which is the default for Python/Mojo classes),\n",
    "because the copy constructor and destructor don’t have to be invoked when\n",
    "passing the argument. Here is a more elaborate example building on the code\n",
    "above:\n"
   ]
  },
  {
   "cell_type": "code",
   "execution_count": null,
   "metadata": {
    "vscode": {
     "languageId": "python"
    }
   },
   "outputs": [],
   "source": [
    "# A type that is so expensive to copy around we don't even have a\n",
    "# __copyinit__ method.\n",
    "struct SomethingBig:\n",
    "    var id_number: Int\n",
    "    var huge: InlinedArray[Int, 100000]\n",
    "    fn __init__(self&): …\n",
    "\n",
    "    # self is passed by-reference for mutation as described above.\n",
    "    fn set_id(self&, number: Int):\n",
    "        self.id_number = number\n",
    "\n",
    "    # Arguments like self are passed as borrowed by default.\n",
    "    fn print_id(self):  # Same as: fn print_id(borrowed self):\n",
    "        print(self.id_number)\n",
    "\n",
    "fn try_something_big():\n",
    "    # Big thing sits on the stack: after we construct it it cannot be\n",
    "    # moved or copied.\n",
    "    let big = SomethingBig()\n",
    "    # We still want to do useful things with it though!\n",
    "    big.print_id()\n",
    "    # Do other things with it.\n",
    "    useSomethingBig(big, big)\n"
   ]
  },
  {
   "attachments": {},
   "cell_type": "markdown",
   "metadata": {},
   "source": [
    "Because the default argument convention is borrowed, we get very simple and\n",
    "logical code which does the right thing by default: for example, we don’t want\n",
    "to copy all of SomethingBig just to invoke the “`print_id`” method, or when\n",
    "calling `useSomethingBig`.\n",
    "\n",
    "The borrowed convention is similar and has precedent to other languages. For\n",
    "example, the borrowed argument convention is similar in some ways to passing an\n",
    "argument by “`const&`” in C++. This avoids a copy of the value, and disables\n",
    "mutability in the callee. The borrowed convention differs from “`const&`” in\n",
    "C++ in two important ways though:\n",
    "\n",
    "1. The Mojo compiler implements a borrow checker (similar to Rust) that\n",
    "prevents code from dynamically forming mutable references to a value when there\n",
    "are immutable references outstanding, and prevents having multiple mutable\n",
    "references to the same value. You are allowed to have multiple borrows (as the\n",
    "call to “`useSomethingBig`” does above) but cannot pass something by mutable\n",
    "reference and borrow at the same time.\n",
    "\n",
    "2. Small values like “`Int`”, “`Float`”, and “`SIMD`” are passed directly in\n",
    "machine registers instead of through an extra indirection (this is because they\n",
    "are declared with the “`@register_passable`” decorator, see below). This is a\n",
    "[significant performance\n",
    "enhancement](https://www.forrestthewoods.com/blog/should-small-rust-structs-be-passed-by-copy-or-by-borrow/)\n",
    "when compared to languages like C++ and Rust, and moves this optimization from\n",
    "every call site to being declarative on a type.\n",
    "\n",
    "Rust is another important language and the Mojo and Rust borrow checkers\n",
    "enforce the same exclusivity invariants. The major difference between Rust and\n",
    "Mojo is that no sigil is required on the caller side to pass by borrow, Mojo is\n",
    "more efficient when passing small values, and Rust defaults to moving values by\n",
    "default instead of passing them around by borrow. These policy and syntax\n",
    "decisions allows Mojo to provide an arguably easier to use programming model.\n"
   ]
  },
  {
   "attachments": {},
   "cell_type": "markdown",
   "metadata": {},
   "source": [
    "### “Owned” Argument Convention\n",
    "TBD"
   ]
  },
  {
   "attachments": {},
   "cell_type": "markdown",
   "metadata": {},
   "source": [
    "\n",
    "### `@register_passable` Struct Decorator"
   ]
  },
  {
   "attachments": {},
   "cell_type": "markdown",
   "metadata": {},
   "source": [
    "As described above, the default fundamental model for working with values is\n",
    "that they live in memory so they have identity, which means they are passed\n",
    "indirectly to and from functions (equivalently, they are passed ‘by reference’\n",
    "at the machine level). This is great for types that cannot be moved, and is a\n",
    "good safe default for large objects or things with expensive copy operations.\n",
    "However, it is really inefficient for tiny things like a single integer or\n",
    "floating point number!\n",
    "\n",
    "To solve this, Mojo allows structs to opt-in to being passed in a register\n",
    "instead of passing through memory with the `@register_passable` decorator.\n",
    "You’ll see this decorator on types like Int in the standard library:\n"
   ]
  },
  {
   "cell_type": "code",
   "execution_count": null,
   "metadata": {
    "vscode": {
     "languageId": "python"
    }
   },
   "outputs": [],
   "source": [
    "@register_passable\n",
    "struct Int:\n",
    "   var value: __mlir_type.`!pop.scalar<index>`\n",
    "\n",
    "   fn __copyinit__(self&, existing: Self):\n",
    "       return Self {value: self.value}\n",
    "\n",
    "   fn __init__(value: __mlir_type.`!pop.scalar<index>`) -> Self:\n",
    "       return Self {value: value}\n",
    "   ...\n"
   ]
  },
  {
   "attachments": {},
   "cell_type": "markdown",
   "metadata": {},
   "source": [
    "This decorator does not change the fundamental behavior of a type: it still\n",
    "needs to have a `__copyinit__` method to be copyable, may still have a\n",
    "`__init__` and `__del__` methods, etc. The major effect of this decorator is on\n",
    "internal implementation details: `@register_passable` types are typically\n",
    "passed in machine registers (subject to the details of the underlying\n",
    "architecture of course).\n",
    "\n",
    "There are only a few observable effects of this decorator to the typical Mojo\n",
    "programmer:\n",
    "\n",
    "1. `@register_passable` types are not being able to hold instances of types\n",
    "that are not themselves `@register_passable`.\n",
    "\n",
    "2. instances of `@register_passable` types do not have predictable identity,\n",
    "and so the ‘self’ pointer is not stable/predictable (e.g. in hash tables).\n",
    "\n",
    "3. `@register_passable`arguments and result are exposed to C and C++ directly,\n",
    "instead of being passed by-pointer.\n",
    "\n",
    "4. The `__init__` and `__copyinit__` methods of this type are implicitly static\n",
    "(like `__new__` in Python) and returns its result by-value instead of taking\n",
    "`self&`.\n",
    "\n",
    "We expect that this decorator will be used pervasively on core standard library\n",
    "types, but is safe to ignore for general application level code.\n"
   ]
  },
  {
   "attachments": {},
   "cell_type": "markdown",
   "metadata": {},
   "source": [
    "## Advanced Mojo Features"
   ]
  },
  {
   "attachments": {},
   "cell_type": "markdown",
   "metadata": {},
   "source": [
    "This section describes power-user features that are important for building the\n",
    "bottom-est level of the standard library. This level of the stack is inhabited\n",
    "by narrow features that require experience with compiler internals to\n",
    "understand and utilize effectively."
   ]
  },
  {
   "attachments": {},
   "cell_type": "markdown",
   "metadata": {},
   "source": [
    "### `@always_inline` decorator\n"
   ]
  },
  {
   "attachments": {},
   "cell_type": "markdown",
   "metadata": {},
   "source": [
    "TBD"
   ]
  },
  {
   "attachments": {},
   "cell_type": "markdown",
   "metadata": {},
   "source": [
    "### Direct Access to MLIR\n"
   ]
  },
  {
   "attachments": {},
   "cell_type": "markdown",
   "metadata": {},
   "source": [
    "TBD"
   ]
  }
 ],
 "metadata": {
  "kernelspec": {
   "display_name": "Mojo",
   "language": "mojo",
   "name": "mojo-jupyter-kernel"
  },
  "language_info": {
   "codemirror_mode": {
    "name": "mojo"
   },
   "file_extension": ".mojo",
   "mimetype": "text/x-mojo",
   "name": "mojo"
  },
  "orig_nbformat": 4
 },
 "nbformat": 4,
 "nbformat_minor": 2
}
