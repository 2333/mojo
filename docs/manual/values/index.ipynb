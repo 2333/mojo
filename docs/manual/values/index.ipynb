{
 "cells": [
  {
   "cell_type": "raw",
   "metadata": {},
   "source": [
    "---\n",
    "title: Intro to value ownership\n",
    "order: 1\n",
    "description: Introduction to Mojo value ownership.\n",
    "css: /static/styles/page-navigation.css\n",
    "website:\n",
    "  open-graph:\n",
    "    image: /static/images/mojo-social-card.png\n",
    "  twitter-card:\n",
    "    image: /static/images/mojo-social-card.png\n",
    "---"
   ]
  },
  {
   "cell_type": "markdown",
   "metadata": {},
   "source": [
    "A program is nothing without data, and data in your program is primarily stored\n",
    "in one of two places: the call stack and the heap. (Some values can also be\n",
    "stored in CPU registers, but we won't get into that here.) All modern\n",
    "programming languages use a call stack and a heap to manage memory during\n",
    "execution, but they each do so a bit differently—sometimes very differently. So\n",
    "in the following sections, we'll explain how Mojo helps manage memory in your\n",
    "programs and how this affects the way you write code in Mojo."
   ]
  },
  {
   "cell_type": "markdown",
   "metadata": {},
   "source": [
    "## Stack and heap overview\n",
    "\n",
    "In general, all programming languages use a call stack the same way: When a\n",
    "function is called, all the execution logic and local variables with fixed-size\n",
    "values are stored together and added to the top of the call stack. When another\n",
    "function is called, its data is likewise added to the top of the stack. You can\n",
    "think of each function's data on the call stack like a box that's placed atop\n",
    "other boxes—only the contents of the top box are accessible (you cannot access\n",
    "the data from a function that's lower in the stack). When a function is done,\n",
    "all its data in the stack is destroyed (that memory is freed), and the function\n",
    "below it is now at the top of the stack.\n",
    "\n",
    "Notice that we said \"local variables with _fixed-size_ values\" are stored in\n",
    "the stack. Any dynamic-sized values that can change in size at runtime are\n",
    "instead stored in the heap, which is a much larger region of memory that allows\n",
    "for dynamic memory access at runtime (technically, the local variable is still\n",
    "stored in the call stack, but its value is a fixed-size pointer to the real\n",
    "value on the heap). Additionally, any values that need to outlive the lifetime\n",
    "of a function (such as an array that's passed between functions) must be stored\n",
    "in the heap, because the function at the top of the call stack cannot read\n",
    "values from a function lower in the stack. This sort of situation—in which\n",
    "heap-allocated values are shared across functions—is where most memory errors\n",
    "occur, and it's where memory management strategies vary the most between\n",
    "programming languages.\n",
    "\n",
    "Because memory is limited, it's important that programs remove unused values\n",
    "from the heap (\"free\" the memory) as quickly as possible. Some programming\n",
    "languages can free the memory automatically if the heap-allocated memory is\n",
    "confined to a function on the call stack (such as a string that's used by only\n",
    "one function). However, when a heap value is used in several places, the memory\n",
    "management strategies vary across languages."
   ]
  },
  {
   "cell_type": "markdown",
   "metadata": {},
   "source": [
    "## Memory management strategies\n",
    "\n",
    "Some programming languages require manual memory management. This means the\n",
    "programmer must specify all heap allocations and deallocations. When done\n",
    "properly, this usually makes programs execute quickly. However, the challenge\n",
    "with this approach is that programmers make mistakes, especially when multiple\n",
    "parts of the program need access to the same memory—it becomes difficult to\n",
    "know which part of the program \"owns\" the data and must deallocate it. Memory\n",
    "might accidentally be deallocated before the program is done with it (causing\n",
    "\"use-after-free\" errors), or it could be deallocated twice (\"double free\"\n",
    "errors), or the memory might never be freed (\"leaked memory\" errors). Mistakes\n",
    "like these and others can have catastrophic results for the program, and these\n",
    "bugs are often hard to track down, making it especially important that they\n",
    "don't occur in the first place.\n",
    "\n",
    "Other programming languages try to hide the complexities of memory management\n",
    "from you by utilizing a \"garbage collector\" process that tracks all memory\n",
    "usage and deallocates unused memory periodically (also known as automatic\n",
    "memory management). A significant benefit of this method is that it relieves\n",
    "developers from the burden of manual memory management, generally avoiding more\n",
    "errors and making developers more productive. However, it incurs a performance\n",
    "cost because the garbage collector interrupts the program's execution, and it\n",
    "might not reclaim memory very quickly.\n",
    "\n",
    "Mojo uses a third approach called \"ownership\" that relies upon a collection of\n",
    "programming rules that developers must follow when passing values. The rules\n",
    "ensure there is only one \"owner\" for each chunk of memory at a time, and that\n",
    "the memory is deallocated accordingly. In this way, Mojo automatically\n",
    "allocates and deallocates memory for you—when using data types with\n",
    "destructors—but it does so in a way that's deterministic and safe from errors\n",
    "such as use-after-free, double-free and memory leaks, and it does so with a\n",
    "very low performance overhead.\n",
    "\n",
    "Mojo's ownership model provides an excellent balance of strong memory safety and\n",
    "programming productivity. It just requires that you learn some new syntax and a\n",
    "few rules about how to share access to memory within your program."
   ]
  }
 ],
 "metadata": {
  "kernelspec": {
   "display_name": "Mojo",
   "language": "mojo",
   "name": "mojo-jupyter-kernel"
  },
  "language_info": {
   "codemirror_mode": {
    "name": "mojo"
   },
   "file_extension": ".mojo",
   "mimetype": "text/x-mojo",
   "name": "mojo"
  },
  "orig_nbformat": 4
 },
 "nbformat": 4,
 "nbformat_minor": 2
}
