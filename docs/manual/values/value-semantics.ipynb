{
 "cells": [
  {
   "cell_type": "raw",
   "metadata": {},
   "source": [
    "---\n",
    "title: Value semantics\n",
    "order: 2\n",
    "description: An explanation of Mojo's value semantic defaults.\n",
    "css: /static/styles/page-navigation.css\n",
    "website:\n",
    "  open-graph:\n",
    "    image: /static/images/mojo-social-card.png\n",
    "  twitter-card:\n",
    "    image: /static/images/mojo-social-card.png\n",
    "---"
   ]
  },
  {
   "cell_type": "markdown",
   "metadata": {},
   "source": [
    "Every Mojo [variable](/mojo/manual/basics/variables.html) provides access to\n",
    "piece of data (or a \"value\") stored in memory. As such, to understand how Mojo\n",
    "helps manage the memory in your program, you need to understand a bit more\n",
    "about how Mojo treats variables.\n",
    "\n",
    "Specifically, you need to know that, by default, Mojo handles all variables\n",
    "using **value semantics**. This means each variable has unique access to a\n",
    "particular value, and no other variable can modify that value (unless specified\n",
    "otherwise). For example, consider this code:"
   ]
  },
  {
   "cell_type": "code",
   "execution_count": 1,
   "metadata": {},
   "outputs": [
    {
     "name": "stdout",
     "output_type": "stream",
     "text": [
      "1\n",
      "2\n"
     ]
    }
   ],
   "source": [
    "x = 1\n",
    "y = x\n",
    "y += 1\n",
    "\n",
    "print(x)\n",
    "print(y)"
   ]
  },
  {
   "cell_type": "markdown",
   "metadata": {},
   "source": [
    "We assign the value of `x` to the `y` variable, and that creates a new value by\n",
    "copying the value. So when we increment `y`, the value for `x` remains the\n",
    "same. This is what most people expect and it's an example of value semantics\n",
    "because each variable handles a unique value. \n",
    "\n",
    "However, if, instead of value semantics, a language uses reference semantics,\n",
    "then `y` actually points to the same data as `x`, so incrementing either one\n",
    "affects them both.\n",
    "\n",
    "This behavior applies to functions as well, which makes them intuitive\n",
    "and predictable. For example, here's the same concept as a function:"
   ]
  },
  {
   "cell_type": "code",
   "execution_count": 5,
   "metadata": {},
   "outputs": [
    {
     "name": "stdout",
     "output_type": "stream",
     "text": [
      "2\n",
      "1\n"
     ]
    }
   ],
   "source": [
    "def add_one(y):\n",
    "    y += 1\n",
    "    print(y)\n",
    "\n",
    "x = 1\n",
    "add_one(x)\n",
    "print(x)"
   ]
  },
  {
   "cell_type": "markdown",
   "metadata": {},
   "source": [
    "In this case, we pass `x` into the `add_one()` function, which creates a copy\n",
    "of the value. Because the function receives a copy, it can modify the value,\n",
    "and the value in the original `x` variable is unchanged.\n",
    "\n",
    "If, a language uses \"reference semantics,\" then the function would instead\n",
    "receive mutable access to the original value. In that case, both `print()`\n",
    "statements would print `2`.\n",
    "\n",
    "This is also true when handling types that include data allocated on the heap.\n",
    "In some languages, if you copy a variable that points to a value on the heap,\n",
    "the same memory pointer is copied, which means both objects then point to the\n",
    "same data (this is known as a \"shallow copy\"). In Mojo, we copy everything,\n",
    "including the heap-allocated values (this is a \"deep copy\"). For example:"
   ]
  },
  {
   "cell_type": "code",
   "execution_count": 6,
   "metadata": {},
   "outputs": [
    {
     "name": "stdout",
     "output_type": "stream",
     "text": [
      "[2, 4, 6, 8]\n",
      "[2, 4, 6]\n"
     ]
    }
   ],
   "source": [
    "def update_list(ar):\n",
    "    ar.append(8)\n",
    "    print(ar)\n",
    "\n",
    "array = [2, 4, 6]\n",
    "update_list(array)\n",
    "print(array)"
   ]
  },
  {
   "cell_type": "markdown",
   "metadata": {},
   "source": [
    "As we expect from value semantics, the array passed to the function is\n",
    "completely unique, so when we add a value to the array, the original array is\n",
    "unchanged.\n",
    "\n",
    "**Note:** Although Mojo is designed as a superset of Python, this is an example\n",
    "of how Mojo behaves differently with full value semantics. In Python, this same\n",
    "code appends new values to the original array, because Python actually passes\n",
    "all mutable objects by reference. This can be confusing in Python, because\n",
    "non-mutable values such as integers still behave as value semantics. So the\n",
    "default argument behavior is more consistent in Mojo.\n",
    "\n",
    "Notice that the above code uses a `def` function, but remember from the\n",
    "[section about functions](/mojo/manual/basics/functions.html) that you can also\n",
    "declare functions with `fn`. A `def` function receives arguments with full\n",
    "value semantics (via copy, as shown above), whereas, an `fn` function receives\n",
    "arguments as immutable references. This sounds like a big difference, but the\n",
    "behavior is still consistent with Mojo's default toward value semantics. That's\n",
    "because, although an `fn` function receives a reference to the original value\n",
    "(it can see the original value, not just a copy of it), the function can't\n",
    "mutate the value—the original variable still has unique ownership of the value.\n",
    "\n",
    "To demonstrate this, let's create a new function similar to `add_one()` above,\n",
    "but now using the `fn` declaration:"
   ]
  },
  {
   "cell_type": "code",
   "execution_count": 4,
   "metadata": {},
   "outputs": [
    {
     "name": "stdout",
     "output_type": "stream",
     "text": [
      "3\n",
      "1\n"
     ]
    }
   ],
   "source": [
    "fn add_two(x: Int):\n",
    "    # x += 1 # This will cause a compiler error\n",
    "    var y = x\n",
    "    y += 2\n",
    "    print(y)\n",
    "\n",
    "x = 1\n",
    "add_two(x)\n",
    "print(x)"
   ]
  },
  {
   "cell_type": "markdown",
   "metadata": {},
   "source": [
    "In this case, because the `fn` function receives an **immutable** reference, the\n",
    "function cannot change the value of `x`. We must instead make a copy of it\n",
    "ourselves and then update the new variable. Again, this works the way we expect\n",
    "with value semantics: the new `y` variable holds a value that's completely\n",
    "unique from the original `x` variable.\n",
    "\n",
    "The way the `fn` function receives the `x` value is sort of a \"look but don't\n",
    "touch\" approach to value semantics. This is also a more memory-efficient\n",
    "approach when dealing with memory-intensive arguments, because the argument\n",
    "value is not copied unless we explicitly decide to copy it. (This is just\n",
    "one example of how using `fn` instead of `def` can make your program more\n",
    "performant.)\n",
    "\n",
    "So, that's the gist of how Mojo defaults to value semantics. However, Mojo is\n",
    "designed with great flexibility, and there are plenty of good reasons why you\n",
    "might want a function to receive a **mutable** reference. Mojo allows you to\n",
    "do that, but it also helps ensure that you do so safely (avoiding errors such as\n",
    "use-after-free, double-free and memory leaks).\n",
    "\n",
    "On the next page, you'll see how to modify the argument semantics, allowing\n",
    "functions to receive a mutable reference to a value, and how take full\n",
    "ownership of a value (both with zero copies and full memory safety)."
   ]
  }
 ],
 "metadata": {
  "kernelspec": {
   "display_name": "Mojo",
   "language": "mojo",
   "name": "mojo-jupyter-kernel"
  },
  "language_info": {
   "codemirror_mode": {
    "name": "mojo"
   },
   "file_extension": ".mojo",
   "mimetype": "text/x-mojo",
   "name": "mojo"
  },
  "orig_nbformat": 4
 },
 "nbformat": 4,
 "nbformat_minor": 2
}
