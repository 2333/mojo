{
 "cells": [
  {
   "cell_type": "raw",
   "metadata": {},
   "source": [
    "---\n",
    "title: Basic syntax\n",
    "order: 1\n",
    "description: Introduction to Mojo's basic code syntax.\n",
    "css: /static/styles/page-navigation.css\n",
    "website:\n",
    "  open-graph:\n",
    "    image: /static/images/mojo-social-card.png\n",
    "  twitter-card:\n",
    "    image: /static/images/mojo-social-card.png\n",
    "---"
   ]
  },
  {
   "attachments": {},
   "cell_type": "markdown",
   "metadata": {},
   "source": [
    "This page describes Mojo's basic syntax."
   ]
  },
  {
   "attachments": {},
   "cell_type": "markdown",
   "metadata": {},
   "source": [
    "\n",
    "## `main()` function\n",
    "\n",
    "Mojo is a compiled language, so each Mojo program must have a defined entry\n",
    "point where code execution starts. Like other compiled languages, Mojo requires\n",
    "a `main()` function as the entry point. For example:"
   ]
  },
  {
   "cell_type": "code",
   "execution_count": 1,
   "metadata": {},
   "outputs": [],
   "source": [
    "fn main():\n",
    "    print(\"Hello, world!\")"
   ]
  },
  {
   "attachments": {},
   "cell_type": "markdown",
   "metadata": {},
   "source": [
    "Mojo also supports [REPL](/mojo/manual/get-started/hello-world.html)\n",
    "programming (a more interpretive style of programming), which does not require\n",
    "a `main()` function. However, when you're writing a Mojo program in a source\n",
    "file, it must include a `main()` function as the entry point.\n",
    "\n",
    "**Note:**\n",
    "If you know Python, then you're used to seeing functions defined with the `def`\n",
    "keyword instead of `fn`. Both actually work in Mojo, but using `fn` behaves a\n",
    "bit differently, as you'll learn in the section about\n",
    "[functions](/mojo/manual/basics/functions.html)."
   ]
  },
  {
   "attachments": {},
   "cell_type": "markdown",
   "metadata": {},
   "source": [
    "## Statements\n",
    "\n",
    "All code statements in Mojo end with a newline. However, statements can span\n",
    "multiple lines if you indent the following lines.\n",
    "\n",
    "For example, this long string spans two lines:"
   ]
  },
  {
   "cell_type": "code",
   "execution_count": 2,
   "metadata": {},
   "outputs": [
    {
     "name": "stdout",
     "output_type": "stream",
     "text": [
      "This is a long line of text that is a lot easier to read if it is broken up across two lines instead of one long line.\n"
     ]
    }
   ],
   "source": [
    "long_text = \"This is a long line of text that is a lot easier to read if\"\n",
    "            \" it is broken up across two lines instead of one long line.\"\n",
    "print(long_text)"
   ]
  },
  {
   "attachments": {},
   "cell_type": "markdown",
   "metadata": {},
   "source": [
    "And you can chain function calls across lines:"
   ]
  },
  {
   "cell_type": "code",
   "execution_count": 3,
   "metadata": {},
   "outputs": [
    {
     "name": "stdout",
     "output_type": "stream",
     "text": [
      "Hello, world!\n"
     ]
    }
   ],
   "source": [
    "from String import String\n",
    "\n",
    "text = String(\",\")\n",
    "       .join(\"Hello\", \" world!\")\n",
    "print(text)"
   ]
  },
  {
   "attachments": {},
   "cell_type": "markdown",
   "metadata": {},
   "source": [
    "## Code blocks\n",
    "\n",
    "In Mojo, code blocks such as functions, conditions, and loops are defined\n",
    "with a colon followed by indented lines. For example:"
   ]
  },
  {
   "cell_type": "code",
   "execution_count": 4,
   "metadata": {},
   "outputs": [
    {
     "name": "stdout",
     "output_type": "stream",
     "text": [
      "0\n",
      "2\n",
      "4\n"
     ]
    }
   ],
   "source": [
    "for x in range(5):\n",
    "    if x % 2 == 0:\n",
    "        print(x)"
   ]
  },
  {
   "attachments": {},
   "cell_type": "markdown",
   "metadata": {},
   "source": [
    "You can use any number of spaces or tabs for your indentation."
   ]
  },
  {
   "attachments": {},
   "cell_type": "markdown",
   "metadata": {},
   "source": [
    "## Code comments\n",
    "\n",
    "You can create a one-line comment using the hash `#` symbol:"
   ]
  },
  {
   "cell_type": "code",
   "execution_count": 5,
   "metadata": {},
   "outputs": [],
   "source": [
    "# This is a comment. The Mojo compiler ignores this line."
   ]
  },
  {
   "attachments": {},
   "cell_type": "markdown",
   "metadata": {},
   "source": [
    "Any text following the `#` symbol (on the same line) is ignored by the Mojo compiler.\n",
    "\n",
    "Comments may also follow some code:"
   ]
  },
  {
   "cell_type": "code",
   "execution_count": 6,
   "metadata": {},
   "outputs": [],
   "source": [
    "message = \"Hello, World!\" # This is also a valid comment"
   ]
  },
  {
   "attachments": {},
   "cell_type": "markdown",
   "metadata": {},
   "source": [
    "You can instead write longer comments across many lines using tripe quotes:"
   ]
  },
  {
   "cell_type": "code",
   "execution_count": 7,
   "metadata": {},
   "outputs": [],
   "source": [
    "\"\"\"\n",
    "This is also a comment, but it's easier to write across\n",
    "many lines, because each line doesn't need the # symbol.\n",
    "\"\"\""
   ]
  },
  {
   "attachments": {},
   "cell_type": "markdown",
   "metadata": {},
   "source": [
    "Triple quotes preferred method of writing API documentation. For example:\n",
    "\n",
    "```mojo\n",
    "fn print(x: String):\n",
    "    \"\"\"Prints a string.\n",
    "\n",
    "    Args:\n",
    "        x: The string to print.\n",
    "    \"\"\"\n",
    "    ...\n",
    "```"
   ]
  },
  {
   "cell_type": "markdown",
   "metadata": {},
   "source": [
    "Documenting your code with these kinds of comments (known as \"docstrings\")\n",
    "is a topic for later (you can generate an API reference from docstrings when\n",
    "formatted appropriately, using the `mojo doc` command)."
   ]
  }
 ],
 "metadata": {
  "kernelspec": {
   "display_name": "Mojo",
   "language": "mojo",
   "name": "mojo-jupyter-kernel"
  },
  "language_info": {
   "codemirror_mode": {
    "name": "mojo"
   },
   "file_extension": ".mojo",
   "mimetype": "text/x-mojo",
   "name": "mojo"
  },
  "orig_nbformat": 4
 },
 "nbformat": 4,
 "nbformat_minor": 2
}
