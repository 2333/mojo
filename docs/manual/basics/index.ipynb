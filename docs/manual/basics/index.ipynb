{
 "cells": [
  {
   "cell_type": "raw",
   "metadata": {},
   "source": [
    "---\n",
    "title: Language basics\n",
    "order: 1\n",
    "sidebar_position: 1\n",
    "description: Introduction to Mojo's basic language features.\n",
    "css: /static/styles/page-navigation.css\n",
    "website:\n",
    "  open-graph:\n",
    "    image: /static/images/mojo-social-card.png\n",
    "  twitter-card:\n",
    "    image: /static/images/mojo-social-card.png\n",
    "---"
   ]
  },
  {
   "attachments": {},
   "cell_type": "markdown",
   "metadata": {},
   "source": [
    "At this point, you should have already set up the [Mojo\n",
    "SDK](/mojo/manual/get-started/) and run [\"Hello\n",
    "world\"](/mojo/manual/get-started/hello-world.html). Now let's talk about how\n",
    "to write Mojo code.\n",
    "\n",
    "You probably already know that Mojo is designed as a superset of Python. So if\n",
    "you know Python, then a lot of Mojo code will look familiar. However, Mojo\n",
    "is—first and foremost—designed for high-performance systems programming, with\n",
    "features like strong type checking, memory safety, next-generation compiler\n",
    "technologies, and more. As such, Mojo also has a lot in common with languages\n",
    "like C++ and Rust.\n",
    "\n",
    "Yet, we've designed Mojo to be flexible, so you can incrementally adopt\n",
    "systems-programming features like strong type checking as you see fit—Mojo does\n",
    "not *require* strong type checking.\n",
    "\n",
    "On this page, we'll introduce just the basic syntax for Mojo so you can start\n",
    "coding quickly. Subsequent sections in the Mojo Manual dive deeper into\n",
    "these topics, and links are provided below as appropriate.\n",
    "\n",
    "Let's get started! 🔥\n",
    "\n",
    ":::{.callout-note}\n",
    "\n",
    "**Note:** Mojo is a young language and there are many [features still\n",
    "missing](/mojo/roadmap.html). As such, Mojo is currently **not** meant for\n",
    "beginners. Even this basics section assumes some programming experience.\n",
    "However, throughout the Mojo Manual, we try not assume experience with any\n",
    "particular language.\n",
    "\n",
    ":::"
   ]
  },
  {
   "cell_type": "markdown",
   "metadata": {},
   "source": [
    "## Functions"
   ]
  },
  {
   "cell_type": "markdown",
   "metadata": {},
   "source": [
    "Mojo functions can be declared with either `fn` or `def`.\n",
    "\n",
    "The `fn` declaration enforces type-checking and memory-safe behaviors (Rust\n",
    "style), while `def` allows no type declarations and dynamic behaviors (Python\n",
    "style).\n",
    "\n",
    "For example, this `def` function doesn't require declaration of argument types\n",
    "or the return type:"
   ]
  },
  {
   "cell_type": "code",
   "execution_count": null,
   "metadata": {},
   "outputs": [],
   "source": [
    "def greet(name):\n",
    "    return \"Hello, \" + name + \"!\""
   ]
  },
  {
   "cell_type": "markdown",
   "metadata": {},
   "source": [
    "While the same thing as an `fn` function requires that you specify the\n",
    "argument type and the return type like this:"
   ]
  },
  {
   "cell_type": "code",
   "execution_count": null,
   "metadata": {},
   "outputs": [],
   "source": [
    "fn greet2(name: String) -> String:\n",
    "    return \"Hello, \" + name + \"!\""
   ]
  },
  {
   "attachments": {},
   "cell_type": "markdown",
   "metadata": {},
   "source": [
    "Both functions have the same result, but the `fn` function provides\n",
    "compile-time checks to ensure the function receives and returns the correct\n",
    "types. Whereas, the `def` function might fail at runtime if it receives the\n",
    "wrong type.\n",
    "\n",
    "Currently, Mojo doesn't support top-level code in a `.mojo` (or `.🔥`) file, so\n",
    "every program must include a function named `main()` as the entry point.\n",
    "You can declare it with either `def` or `fn`:"
   ]
  },
  {
   "cell_type": "code",
   "execution_count": null,
   "metadata": {},
   "outputs": [],
   "source": [
    "def main():\n",
    "   print(\"Hello, world!\")"
   ]
  },
  {
   "cell_type": "markdown",
   "metadata": {},
   "source": [
    ":::{.callout-note}\n",
    "\n",
    "**Note:** You don't need a `main()` function when coding in the\n",
    "[REPL](/mojo/manual/get-started/hello-world.html#run-code-in-the-repl) or in a\n",
    "[Jupyter\n",
    "notebook](https://github.com/modularml/mojo/tree/main/examples/notebooks#readme).\n",
    "\n",
    ":::"
   ]
  },
  {
   "cell_type": "markdown",
   "metadata": {},
   "source": [
    "For more details, see the page about\n",
    "[functions](/mojo/manual/basics/functions.html)."
   ]
  },
  {
   "cell_type": "markdown",
   "metadata": {},
   "source": [
    "### Value ownership and argument mutability"
   ]
  },
  {
   "cell_type": "markdown",
   "metadata": {},
   "source": [
    "If you're wondering whether function arguments are passed by value or\n",
    "passed by reference, the short answer is: `def` functions receive arguments\n",
    "\"by value\" and `fn` functions receive arguments \"by immutable reference.\"\n",
    "\n",
    "The longer short answer is that Mojo allows you to specify for each argument\n",
    "whether it should be passed by value (as `owned`), or whether it should be\n",
    "passed by reference (as `borrowed` for an immutable reference, or as `inout`\n",
    "for a mutable reference).\n",
    "\n",
    "This feature is entwined with Mojo's value ownership model, which protects you\n",
    "from memory errors by ensuring that only one variable \"owns\" a value at any\n",
    "given time (but allowing other variables to receive a reference to it).\n",
    "Ownership then ensures that the value is destroyed when the lifetime of the\n",
    "owner ends (and there are no outstanding references).\n",
    "\n",
    "But that's still a short answer, because going much further is a slippery slope\n",
    "into complexity that is out of scope for this section. For the complete\n",
    "answer, see the section about [value ownership](/mojo/manual/values/).\n"
   ]
  },
  {
   "cell_type": "markdown",
   "metadata": {},
   "source": [
    "## Variables"
   ]
  },
  {
   "cell_type": "markdown",
   "metadata": {},
   "source": [
    "You can declare variables with `var` to create a mutable value, or with `let`\n",
    "to create an immutable value. Or, if your code is in a `def` function, you can\n",
    "omit both and the variable defaults to `var` (in an `fn` function, you must\n",
    "declare mutability).\n",
    "\n",
    "For example:"
   ]
  },
  {
   "cell_type": "code",
   "execution_count": null,
   "metadata": {},
   "outputs": [],
   "source": [
    "def do_math(x):\n",
    "    var y = x + x # y is mutable\n",
    "    y = y * y\n",
    "    let z = y + x # z is immutable\n",
    "    print(z)"
   ]
  },
  {
   "cell_type": "markdown",
   "metadata": {},
   "source": [
    "Optionally, you can also declare a variable type like this:"
   ]
  },
  {
   "cell_type": "code",
   "execution_count": 3,
   "metadata": {},
   "outputs": [],
   "source": [
    "def add_one(x):\n",
    "    let y: Int = 1\n",
    "    print(x + y)"
   ]
  },
  {
   "cell_type": "markdown",
   "metadata": {},
   "source": [
    "Even in an `fn` function, declaring the variable type is optional\n",
    "(only the argument and return types must be declared in `fn` functions).\n",
    "\n",
    "For more details, see the page about\n",
    "[variables](/mojo/manual/basics/variables.html)."
   ]
  },
  {
   "cell_type": "markdown",
   "metadata": {},
   "source": [
    "## Structs"
   ]
  },
  {
   "cell_type": "markdown",
   "metadata": {},
   "source": [
    "You can build high-level abstractions for types (or \"objects\") as a `struct`. \n",
    "\n",
    "A `struct` in Mojo is similar to a `class` in Python: they both support\n",
    "methods, fields, operator overloading, decorators for metaprogramming, and so\n",
    "on. However, Mojo structs are completely static—they are bound at compile-time,\n",
    "so they do not allow dynamic dispatch or any runtime changes to the structure.\n",
    "(Mojo will also support Python-style classes in the future.)\n",
    "\n",
    "For example, here's a basic struct:"
   ]
  },
  {
   "cell_type": "code",
   "execution_count": null,
   "metadata": {},
   "outputs": [],
   "source": [
    "struct MyPair:\n",
    "    var first: Int\n",
    "    var second: Int\n",
    "\n",
    "    fn __init__(inout self, first: Int, second: Int):\n",
    "        self.first = first\n",
    "        self.second = second\n",
    "\n",
    "    fn dump(self):\n",
    "        print(self.first, self.second)"
   ]
  },
  {
   "cell_type": "markdown",
   "metadata": {},
   "source": [
    "And here's how you can use it:"
   ]
  },
  {
   "cell_type": "code",
   "execution_count": null,
   "metadata": {},
   "outputs": [],
   "source": [
    "fn use_mypair():\n",
    "    let mine = MyPair(2, 4)\n",
    "    mine.dump()"
   ]
  },
  {
   "cell_type": "markdown",
   "metadata": {},
   "source": [
    "For more details, see the page about\n",
    "[structs](/mojo/manual/basics/structs.html)."
   ]
  },
  {
   "cell_type": "markdown",
   "metadata": {},
   "source": [
    "## Blocks and statements"
   ]
  },
  {
   "cell_type": "markdown",
   "metadata": {},
   "source": [
    "Code blocks such as functions, conditions, and loops are defined\n",
    "with a colon followed by indented lines. For example:"
   ]
  },
  {
   "cell_type": "code",
   "execution_count": null,
   "metadata": {},
   "outputs": [],
   "source": [
    "def loop():\n",
    "    for x in range(5):\n",
    "        if x % 2 == 0:\n",
    "            print(x)"
   ]
  },
  {
   "attachments": {},
   "cell_type": "markdown",
   "metadata": {},
   "source": [
    "You can use any number of spaces or tabs for your indentation (we prefer 4\n",
    "spaces).\n",
    "\n",
    "All code statements in Mojo end with a newline. However, statements can span\n",
    "multiple lines if you indent the following lines. For example, this long string\n",
    "spans two lines:"
   ]
  },
  {
   "cell_type": "code",
   "execution_count": null,
   "metadata": {},
   "outputs": [],
   "source": [
    "def print_line():\n",
    "    long_text = \"This is a long line of text that is a lot easier to read if\"\n",
    "                \" it is broken up across two lines instead of one long line.\"\n",
    "    print(long_text)"
   ]
  },
  {
   "attachments": {},
   "cell_type": "markdown",
   "metadata": {},
   "source": [
    "And you can chain function calls across lines:"
   ]
  },
  {
   "cell_type": "code",
   "execution_count": null,
   "metadata": {},
   "outputs": [],
   "source": [
    "def print_hello():\n",
    "    text = String(\",\")\n",
    "          .join(\"Hello\", \" world!\")\n",
    "    print(text)"
   ]
  },
  {
   "attachments": {},
   "cell_type": "markdown",
   "metadata": {},
   "source": [
    "## Code comments\n",
    "\n",
    "You can create a one-line comment using the hash `#` symbol:"
   ]
  },
  {
   "cell_type": "code",
   "execution_count": null,
   "metadata": {},
   "outputs": [],
   "source": [
    "# This is a comment. The Mojo compiler ignores this line."
   ]
  },
  {
   "attachments": {},
   "cell_type": "markdown",
   "metadata": {},
   "source": [
    "Comments may also follow some code:"
   ]
  },
  {
   "cell_type": "code",
   "execution_count": null,
   "metadata": {},
   "outputs": [],
   "source": [
    "let message = \"Hello, World!\" # This is also a valid comment"
   ]
  },
  {
   "attachments": {},
   "cell_type": "markdown",
   "metadata": {},
   "source": [
    "You can instead write longer comments across many lines using tripe quotes:"
   ]
  },
  {
   "cell_type": "code",
   "execution_count": null,
   "metadata": {},
   "outputs": [],
   "source": [
    "\"\"\"\n",
    "This is also a comment, but it's easier to write across\n",
    "many lines, because each line doesn't need the # symbol.\n",
    "\"\"\""
   ]
  },
  {
   "attachments": {},
   "cell_type": "markdown",
   "metadata": {},
   "source": [
    "Triple quotes is the preferred method of writing API documentation. For example:\n",
    "\n",
    "```mojo\n",
    "fn print(x: String):\n",
    "    \"\"\"Prints a string.\n",
    "\n",
    "    Args:\n",
    "        x: The string to print.\n",
    "    \"\"\"\n",
    "    ...\n",
    "```"
   ]
  },
  {
   "cell_type": "markdown",
   "metadata": {},
   "source": [
    "Documenting your code with these kinds of comments (known as \"docstrings\")\n",
    "is a topic we've yet to fully specify, but you can generate an API reference\n",
    "from docstrings using the [`mojo doc` command](/mojo/cli/doc.html)."
   ]
  },
  {
   "cell_type": "markdown",
   "metadata": {},
   "source": [
    "## Python integration"
   ]
  },
  {
   "cell_type": "markdown",
   "metadata": {},
   "source": [
    "Mojo is not yet a full superset of Python, but we've built a mechanism to import\n",
    "Python modules as-is, so you can leverage existing Python code right away.\n",
    "\n",
    "For example, here's how you can import and use NumPy (you must have Python\n",
    "`numpy` installed):"
   ]
  },
  {
   "cell_type": "code",
   "execution_count": 1,
   "metadata": {},
   "outputs": [],
   "source": [
    "from python import Python\n",
    "\n",
    "fn use_numpy() raises:\n",
    "    let np = Python.import_module(\"numpy\")\n",
    "    let ar = np.arange(15).reshape(3, 5)\n",
    "    print(ar)\n",
    "    print(ar.shape)"
   ]
  },
  {
   "cell_type": "markdown",
   "metadata": {},
   "source": [
    ":::{.callout-note}\n",
    "\n",
    "**Note:** You must have the Python module (such as `numpy`) installed already.\n",
    "\n",
    ":::"
   ]
  },
  {
   "cell_type": "markdown",
   "metadata": {},
   "source": [
    "For more details, see the page about\n",
    "[Python integration](/mojo/manual/python/)."
   ]
  },
  {
   "cell_type": "markdown",
   "metadata": {},
   "source": [
    "## Next steps"
   ]
  },
  {
   "cell_type": "markdown",
   "metadata": {},
   "source": [
    "Hopefully this page has given you enough information to start experimenting with\n",
    "Mojo, but this is only touching the surface of what's available in Mojo.\n",
    "\n",
    "If you're in the mood to read more, continue through each page of this\n",
    "Mojo Manual using the buttons at the bottom of each page—the next page from\n",
    "here is [Functions](/mojo/manual/basics/functions.html).\n",
    "\n",
    "Otherwise, here are some other resources to check out:\n",
    "\n",
    "- If you want to experiment with some code, clone [the Mojo\n",
    "repo](https://github.com/modularml/mojo/) to try our code examples:\n",
    "\n",
    "  ```sh\n",
    "  git clone https://github.com/modularml/mojo.git\n",
    "  ```\n",
    "\n",
    "  In addition to several `.mojo` examples, the repo includes [Jupyter\n",
    "  notebooks](https://github.com/modularml/mojo/tree/main/examples/notebooks#readme)\n",
    "  that teach advanced Mojo features.\n",
    "\n",
    "- To see all the available Mojo APIs, check out the [Mojo standard library\n",
    "  reference](/mojo/lib.html)."
   ]
  }
 ],
 "metadata": {
  "kernelspec": {
   "display_name": "Mojo",
   "language": "mojo",
   "name": "mojo-jupyter-kernel"
  },
  "language_info": {
   "codemirror_mode": {
    "name": "mojo"
   },
   "file_extension": ".mojo",
   "mimetype": "text/x-mojo",
   "name": "mojo"
  },
  "orig_nbformat": 4
 },
 "nbformat": 4,
 "nbformat_minor": 2
}
