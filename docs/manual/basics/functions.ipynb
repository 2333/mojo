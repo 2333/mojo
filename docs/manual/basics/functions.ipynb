{
 "cells": [
  {
   "cell_type": "raw",
   "metadata": {},
   "source": [
    "---\n",
    "title: Functions\n",
    "order: 2\n",
    "description: Introduction to Mojo `fn` and `def` functions.\n",
    "css: /static/styles/page-navigation.css\n",
    "website:\n",
    "  open-graph:\n",
    "    image: /static/images/mojo-social-card.png\n",
    "  twitter-card:\n",
    "    image: /static/images/mojo-social-card.png\n",
    "---"
   ]
  },
  {
   "attachments": {},
   "cell_type": "markdown",
   "metadata": {},
   "source": [
    "As mentioned in [Basic syntax](/mojo/manual/basics/syntax.html), all Mojo\n",
    "programs begin execution in a `main()` function, and Mojo supports two types of\n",
    "functions: `def` and `fn` functions.\n",
    "\n",
    "You can use either declaration with any function, including the `main()`\n",
    "function, but they have different behaviors as described on this page.\n",
    "\n",
    "**Note:** Functions declared inside a\n",
    "[`struct`](/mojo/manual/basics/structs.html) are called \"methods,\" but they\n",
    "have all the same qualities as \"functions\" described here."
   ]
  },
  {
   "cell_type": "markdown",
   "metadata": {},
   "source": [
    "## `def` functions\n",
    "\n",
    "Mojo supports a lot of Python's syntax and behavior, including the `def`\n",
    "function declaration. A Mojo `def` function is designed to provide some of the\n",
    "same dynamism and flexibility as Python `def` functions.\n",
    "\n",
    "For example, this function works the same in Python and Mojo:"
   ]
  },
  {
   "cell_type": "code",
   "execution_count": 1,
   "metadata": {},
   "outputs": [],
   "source": [
    "def greet(name):\n",
    "    return \"Hello, \" + name + \"!\""
   ]
  },
  {
   "cell_type": "markdown",
   "metadata": {},
   "source": [
    "What you need to know about a `def` function is the following:\n",
    "\n",
    "- Arguments don't require a type specifier. By default, all arguments are\n",
    "  passed as an [`object`](/mojo/stdlib/builtin/object.html#object), which can\n",
    "  represent most (eventually all) types in the Mojo standard library. For\n",
    "  example, the above `greet()` function can receive a string, an integer, a\n",
    "  list, and other types in the `name` argument. It's the function's\n",
    "  responsibility to detect the types it does or doesn't support.\n",
    "\n",
    "- Return types don't need to be declared either, so the function can return\n",
    "  anything (or nothing).\n",
    "\n",
    "- Arguments passed into a `def` function are **mutable** variables, using\n",
    "  **value semantics** (by default). This means a `def` function receives a copy\n",
    "  of the argument data, so it can modify arguments inside the function and those\n",
    "  changes are visible only inside the function (unless it returns the values).\n",
    "  (You can instead make arguments immutable, or mutable with reference\n",
    "  semantics, but that's a topic covered in [value\n",
    "  ownership](/mojo/manual/values/).)\n",
    "\n",
    "The ability for `def` functions to use undeclared argument types and return\n",
    "types provides simplicity when coding, and flexibility to handle different data\n",
    "types with one function. However, this lack of type enforcement can lead to\n",
    "runtime errors when a function receives or returns an unexpected type. It also\n",
    "adds a runtime performance cost because Mojo must discover the data type at\n",
    "runtime.\n",
    "\n",
    "However, you can optionally declare types for some or all arguments and return\n",
    "values in a `def` function, and Mojo enforces them at compile time. (See\n",
    "the next section for the type declaration syntax.)\n",
    "\n",
    "**Note:** If you know Python well, it's important to recognize that Mojo's\n",
    "value semantics in a `def` function (passing arguments by value) is a\n",
    "significant divergence from Python. In Python, it only _appears_ that arguments\n",
    "are passed by value. The only arguments that Python actually passes by value\n",
    "are immutable types, such as integers and strings. Python passes all mutable\n",
    "types as object pointers (also called \"pass by assignment\" because it assigns\n",
    "the object pointer to the argument name). If the function assigns a new value\n",
    "to the argument variable, it behaves like value semantics, because the variable\n",
    "now points to a different object. However, if instead of reassigning the\n",
    "variable, you modify the object's value, then Python behaves like reference\n",
    "semantics. For example, if your Python function receives a list and then calls\n",
    "`.append()` on that list, this actually modifies the original object. In Mojo,\n",
    "that won't happen because the `def` function receives its own copy of the list\n",
    "(and it's a deep copy)—that is, unless you modify the [argument\n",
    "convention](/mojo/manual/values/ownership.html)."
   ]
  },
  {
   "cell_type": "markdown",
   "metadata": {},
   "source": [
    "## `fn` functions\n",
    "\n",
    "As far as a caller is concerned, `def` and `fn` functions are interchangeable.\n",
    "There is nothing a `def` can do that an `fn` can't (and vice versa). The\n",
    "difference is that, compared to a `def` function, an `fn` function is more\n",
    "strict on the inside:\n",
    "\n",
    "- Arguments must specify their type, such as `Int` or `String` (except for the\n",
    "  `self` argument in [struct methods](/mojo/manual/basics/structs.html)). If you\n",
    "  want a more dynamic behavior for some arguments, you can specify the type as\n",
    "  the generic `object`.\n",
    "\n",
    "- Return values must also specify a type. If you don't specify a return type, it\n",
    "  defaults to `None` (if the function doesn't return anything, then you don't\n",
    "  have to specify `None`). The return type may also be a generic `object`.\n",
    "\n",
    "- If the function raises an exception, it must be explicitly declared with the\n",
    "  `raises` keyword. (A `def` function does not need to declare exceptions.)\n",
    "\n",
    "- Argument passed into an `fn` function are **immutable** variables (the\n",
    "  function can read the values but cannot change them). This catches accidental\n",
    "  mutations, and allows the function to receive non-copyable types as arguments.\n",
    "  (You can instead make arguments mutable, using either reference or value\n",
    "  semantics, but that's a topic covered in [value\n",
    "  ownership](/mojo/manual/values/ownership.html).)\n",
    "\n",
    "By enforcing all these type checks, using the `fn` function helps avoid a\n",
    "variety of potential runtime errors. It also improves performance compared to\n",
    "the dynamic typing in a `def` function, because there's no overhead processing\n",
    "required to figure out what data types to use at runtime—the types are fixed at\n",
    "compile time.\n",
    "\n",
    "So, a reimplementation of the `def greet()` function using `fn` looks like this:"
   ]
  },
  {
   "cell_type": "code",
   "execution_count": 6,
   "metadata": {},
   "outputs": [],
   "source": [
    "from String import String\n",
    "\n",
    "fn greet(name: String) -> String:\n",
    "    return String(\"Hello, \") + name + String(\"!\")"
   ]
  },
  {
   "cell_type": "markdown",
   "metadata": {},
   "source": [
    "Notice that the `name` argument is now specified as a `String`, and the return\n",
    "type (also `String`) is specified with an arrow `->`.\n",
    "\n",
    "Because the `String` return type is enforced, we must concatenate the text\n",
    "together by instantiating new `String` objects for each piece of text.\n",
    "\n",
    "Another difference is—although we haven't discussed\n",
    "[variables](/mojo/manual/basics/variables.html) yet—all local variables in an\n",
    "`fn` function must be declared using either the `var` or `let` keyword (meaning\n",
    "mutable or immutable, respectively). Whereas, in a `def` function, you don't\n",
    "need either declaration and variable names are mutable by default.\n",
    "\n",
    "**Note:** You can also use type declarations in a `def` function, the same way\n",
    "as shown here with `fn` and Mojo will enforce them. (The caveat is that, when\n",
    "using a `def` function, Mojo will not complain if you forget to declare any\n",
    "types.)"
   ]
  },
  {
   "cell_type": "markdown",
   "metadata": {},
   "source": [
    "## Overloaded functions\n",
    "\n",
    "If a `def` function does not specify argument types, then it can accept any\n",
    "data type and decide how to handle each type internally. This is nice when you\n",
    "want expressive APIs that just work by accepting arbitrary inputs, but it also\n",
    "has drawbacks mentioned above.\n",
    "\n",
    "Because all `fn` functions must specify argument types, if you want a given\n",
    "function to work with different data types, you need to implement separate\n",
    "versions of the function that each specify different argument types. This is\n",
    "called \"overloading\" a function.\n",
    "\n",
    "For example, here's an overloaded `add()` function that can accept either\n",
    "`Int` or `String` types:"
   ]
  },
  {
   "cell_type": "code",
   "execution_count": 3,
   "metadata": {},
   "outputs": [
    {
     "name": "stdout",
     "output_type": "stream",
     "text": [
      "12\n"
     ]
    }
   ],
   "source": [
    "from String import String\n",
    "\n",
    "fn add(x: Int, y: Int) -> Int:\n",
    "    return x + y\n",
    "\n",
    "fn add(x: String, y: String) -> String:\n",
    "    return x + y\n",
    "\n",
    "print(add(\"1\", \"2\"))"
   ]
  },
  {
   "cell_type": "markdown",
   "metadata": {},
   "source": [
    "If you pass anything other than `Int` or `String` to the `add()` function,\n",
    "you'll get a compiler error. That is, unless `Int` or `String` can implicitly\n",
    "cast the type into their own type—for example, `String` includes an overloaded\n",
    "version of its constructor (`__init__()`) that accepts a `StringLiteral` value\n",
    "(this is actually how the above call to `add()` works at all, because wrapping\n",
    "a string in quotes creates a `StringLiteral`, not a `String`).\n",
    "\n",
    "When resolving an overloaded function call, the Mojo compiler tries each\n",
    "candidate function and uses the one that works (if only one version works), or\n",
    "it picks the closest match (if it can determine a close match), or it reports\n",
    "that the call is ambiguous (if it can’t figure out which one to pick). In the\n",
    "latter case, you can resolve the ambiguity by explicitly casting your input to\n",
    "an acceptable argument type.\n",
    "\n",
    "When resolving an overloaded function, Mojo does not consider the return type\n",
    "or other contextual information at the call site—only the argument types affect\n",
    "which function is selected.\n",
    "\n",
    "Overloading also works with combinations of both `fn` and `def` functions.\n",
    "For example, you could define multiple `fn` function overloads and then one\n",
    "or more `def` versions that don't specify all argument types, as a fallback.\n",
    "\n",
    "**Note:** Although we haven't discussed\n",
    "[parameters](/mojo/manual/metaprogramming/parameters.html) yet (they're\n",
    "different from function arguments), you can also overload functions based on\n",
    "parameter types."
   ]
  }
 ],
 "metadata": {
  "kernelspec": {
   "display_name": "Mojo",
   "language": "mojo",
   "name": "mojo-jupyter-kernel"
  },
  "language_info": {
   "codemirror_mode": {
    "name": "ipython",
    "version": 3
   },
   "file_extension": ".py",
   "mimetype": "text/x-python",
   "name": "mojo",
   "nbconvert_exporter": "python",
   "pygments_lexer": "ipython3",
   "version": "3.10.4"
  },
  "orig_nbformat": 4
 },
 "nbformat": 4,
 "nbformat_minor": 2
}
