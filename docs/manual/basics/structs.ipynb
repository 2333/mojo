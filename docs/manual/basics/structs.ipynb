{
 "cells": [
  {
   "cell_type": "raw",
   "metadata": {},
   "source": [
    "---\n",
    "title: Structs\n",
    "order: 4\n",
    "description: Introduction to Mojo structures (structs).\n",
    "css: /static/styles/page-navigation.css\n",
    "website:\n",
    "  open-graph:\n",
    "    image: /static/images/mojo-social-card.png\n",
    "  twitter-card:\n",
    "    image: /static/images/mojo-social-card.png\n",
    "---"
   ]
  },
  {
   "cell_type": "markdown",
   "metadata": {},
   "source": [
    "A Mojo struct is a data structure that allows you to encapsulate fields and\n",
    "methods that operate on an abstraction, such as a data type or an object.\n",
    "**Fields** are variables that hold data relevant to the struct, and **methods**\n",
    "are functions inside a struct that generally act upon the field data.\n",
    "\n",
    "For example, if you're building a graphics program, you can use a struct to\n",
    "define an `Image` that has fields to store information about each image\n",
    "(such as the pixels) and methods that perform actions on it (such as rotate\n",
    "it).\n",
    "\n",
    "For the most part, Mojo's struct format is designed to provide a static,\n",
    "memory-safe data structure for high-level data types used in programs. For\n",
    "example, all the data types in Mojo's standard library (such as `Int`,\n",
    "`Bool`, `String`, and `Tuple`) are defined as structs.\n",
    "\n",
    "If you understand how [functions](functions.html) and\n",
    "[variables](variables.html) work in Mojo, you probably noticed that Mojo is\n",
    "designed to provide dynamic programming features in a `def` function while\n",
    "enforcing stronger code safety in `fn` functions. When it comes to structs,\n",
    "Mojo leans toward the safe side: You can still choose whether to use either\n",
    "`def` or `fn` declarations for methods, but all fields must be declared with\n",
    "`var` (currently, structs do not support fields declared with `let`)."
   ]
  },
  {
   "cell_type": "markdown",
   "metadata": {},
   "source": [
    "## Struct definition\n",
    "\n",
    "You can define a simple struct called `MyPair` with two fields like this:"
   ]
  },
  {
   "cell_type": "code",
   "execution_count": 1,
   "metadata": {},
   "outputs": [],
   "source": [
    "struct MyPair:\n",
    "    var first: Int\n",
    "    var second: Int"
   ]
  },
  {
   "cell_type": "markdown",
   "metadata": {},
   "source": [
    "However, you can't instantiate this struct because it has no constructor\n",
    "method. So here it is with a constructor to initialize the two fields:"
   ]
  },
  {
   "cell_type": "code",
   "execution_count": 2,
   "metadata": {},
   "outputs": [],
   "source": [
    "struct MyPair:\n",
    "    var first: Int\n",
    "    var second: Int\n",
    "\n",
    "    fn __init__(inout self, first: Int, second: Int):\n",
    "        self.first = first\n",
    "        self.second = second"
   ]
  },
  {
   "cell_type": "markdown",
   "metadata": {},
   "source": [
    "**Note:** You cannot assign a value to a field outside of a method, and (currently) you cannot declare fields with `let`.\n",
    "\n",
    "Now we can create an instance of `MyPair` and set the fields:"
   ]
  },
  {
   "cell_type": "code",
   "execution_count": 3,
   "metadata": {},
   "outputs": [
    {
     "name": "stdout",
     "output_type": "stream",
     "text": [
      "2\n"
     ]
    }
   ],
   "source": [
    "let mine = MyPair(2,4)\n",
    "print(mine.first)"
   ]
  },
  {
   "cell_type": "markdown",
   "metadata": {},
   "source": [
    "Notice that the first argument in the `__init__()` method is `inout self`. For\n",
    "now, ignore `inout` (it's a modifier for the `self` argument that's covered in\n",
    "the section about [ownership](/mojo/manual/values/)); all you need to know\n",
    "right now is that the `self` argument must be the first argument. This is a\n",
    "variable that simply refers to the current struct instance (it allows code in\n",
    "the struct to refer to \"itself\"). When you call the constructor, you never pass\n",
    "a value for `self`—Mojo passes it in automatically.\n",
    "\n",
    "The `__init__()` method is one of many special methods (also known as \"dunder\n",
    "methods\" because they have **d**ouble **under**scores) with pre-determined\n",
    "names that perform special functions in a struct. For more information, see the\n",
    "section below about [special methods](#special-methods).\n",
    "\n",
    "Of course, you can add any other method you want to your struct (but without\n",
    "the double underscores—those are only for special methods defined by Mojo). For\n",
    "example:"
   ]
  },
  {
   "cell_type": "code",
   "execution_count": 4,
   "metadata": {},
   "outputs": [],
   "source": [
    "struct MyPair:\n",
    "    var first: Int\n",
    "    var second: Int\n",
    "\n",
    "  fn __init__(inout self, first: Int, second: Int):\n",
    "      self.first = first\n",
    "      self.second = second\n",
    "  \n",
    "  fn get_sum(self) -> Int:\n",
    "      return self.first + self.second"
   ]
  },
  {
   "cell_type": "code",
   "execution_count": 5,
   "metadata": {},
   "outputs": [
    {
     "name": "stdout",
     "output_type": "stream",
     "text": [
      "14\n"
     ]
    }
   ],
   "source": [
    "let mine = MyPair(6, 8)\n",
    "print(mine.get_sum())"
   ]
  },
  {
   "cell_type": "markdown",
   "metadata": {},
   "source": [
    "Again notice that `get_sum()` also uses the `self` argument, because this is\n",
    "the only way you can access the struct's fields in a method. The name `self` is\n",
    "just a convention, and you can use any name you want to refer to the struct\n",
    "that is always passed as the first argument.\n",
    "\n",
    "**Note:** The `self` argument in a struct method is the only argument in an\n",
    "`fn` function that does not require a type. You can include it if you want, but\n",
    "you can elide it because Mojo already knows its type (`MyPair` in this case)."
   ]
  },
  {
   "cell_type": "markdown",
   "metadata": {},
   "source": [
    "## Structs compared to classes\n",
    "\n",
    "If you're familiar with other object-oriented languages, then structs might\n",
    "sound a lot like classes, and there are some similarities, but also some\n",
    "important differences.\n",
    "\n",
    "Eventually, Mojo will also support classes to match the behavior of Python\n",
    "classes (because Mojo is designed to be a [superset of\n",
    "Python](/mojo/why-mojo.html#a-member-of-the-python-family)). So let's compare\n",
    "Mojo structs to Python classes. They both support methods, fields, operator\n",
    "overloading, decorators for metaprogramming, and more, but their key differences\n",
    "are as follows:\n",
    "\n",
    "- Python classes are dynamic: they allow for dynamic dispatch, monkey-patching\n",
    "(or “swizzling”), and dynamically binding instance fields at runtime.\n",
    "\n",
    "- Mojo structs are static: they are bound at compile-time (you cannot add\n",
    "methods at runtime). Structs allow you to trade flexibility for performance\n",
    "while being safe and easy to use.\n",
    "\n",
    "- Mojo structs do not support inheritance (\"sub-classing\").\n",
    "\n",
    "Syntactically, the biggest difference compared to a Python class is that all\n",
    "fields in a struct must be explicitly declared with `var` (currently, structs\n",
    "do not support fields declared with `let`)\n",
    "\n",
    "In Mojo, the structure and contents of a struct are set in advance and can’t\n",
    "be changed while the program is running. Unlike in Python, where you can add,\n",
    "remove, or change attributes of an object on the fly, Mojo doesn’t allow that\n",
    "for structs.\n",
    "\n",
    "However, the static nature of structs helps Mojo run your code faster. The\n",
    "program knows exactly where to find the struct’s information and how to use it\n",
    "without any extra steps or delays at runtime.\n",
    "\n",
    "Mojo’s structs also work really well with features you might already know from\n",
    "Python, like operator overloading (which lets you change how math symbols like\n",
    "`+` and `-` work with your own data). As mentioned above, all Mojo's standard\n",
    "types (`Int`, `String`, etc.) are made using structs, rather than being\n",
    "hardwired into the language itself. This gives you more flexibility and control\n",
    "when writing your code, and it means you can define your own types with all the\n",
    "same capabilities (there's no special treatment for the standard library types)."
   ]
  },
  {
   "cell_type": "markdown",
   "metadata": {},
   "source": [
    "## Special methods\n",
    "\n",
    "Special methods (or \"dunder methods\") such as `__init__()` are pre-determined\n",
    "method names that you can define in a struct to perform a special task.\n",
    "\n",
    "Although it's possible to call special methods with their method names, the\n",
    "point is that you never should, because Mojo automatically invokes them in\n",
    "circumstances where they're needed (which is why they're also called \"magic\n",
    "methods\"). For example, Mojo calls the `__init__()` method when you instantiate\n",
    "an instance of the struct by name; and when Mojo destroys the instance, it\n",
    "calls the `__del__()` method (if it exists).\n",
    "\n",
    "Even operator behaviors that appear built-in (`+`, `<`, `==`, `|`, and so on)\n",
    "are implemented as special methods that Mojo implicitly calls upon to perform\n",
    "operations or comparisons on the type that the operator is applied to.\n",
    "\n",
    "Mojo supports a long list of special methods; far too many to discuss here, but\n",
    "they generally match all of [Python's special\n",
    "methods](https://docs.python.org/3/reference/datamodel.html#special-method-names)\n",
    "and they usually accomplish one of two types of tasks:\n",
    "\n",
    "- Operator overloading: A lot of special methods are designed to overload\n",
    "  operators such as `<` (less-than), `+` (add), and `|` (or) so they work\n",
    "  appropriately with each type. For example, look at the methods listed for Mojo's\n",
    "  [`Int` type](/mojo/MojoBuiltin/Int.html). One such method is `__lt__()`, which\n",
    "  Mojo calls to perform a less-than comparison between two integers (for example,\n",
    "  `num1 < num2`).\n",
    "\n",
    "- Lifecycle event handling: These special methods deal with the lifecycle and\n",
    "  memory ownership of an instance. For example, `__init__()` and `__del__()`\n",
    "  demarcate the beginning and end of an instance lifecycle, and other special\n",
    "  methods define the behavior for other lifecycle events such as how to make a\n",
    "  copy of an instance or move ownership to another variable.\n",
    "\n",
    "How to define more of these special methods is beyond the scope of this section\n",
    "because it requires an understanding of value lifecycles and memory ownership.\n",
    "However, most structs are simple aggregations of other existing types, so they\n",
    "don't require custom implementations for the lifecycle events, and you can get\n",
    "by using the `@value` decorator to synthesize the basic lifecycle handlers.\n"
   ]
  },
  {
   "cell_type": "markdown",
   "metadata": {},
   "source": [
    "### `@value` decorator\n",
    "\n",
    "The `@value` decorator is special code annotation you can add on your struct to\n",
    "synthesize some special methods. Specifically, it generates the `__init__()`,\n",
    "`__copyinit__()`, and `__moveinit__()` methods, which allow you to construct,\n",
    "copy, and move your struct type.\n",
    "\n",
    "For example:"
   ]
  },
  {
   "cell_type": "code",
   "execution_count": 6,
   "metadata": {},
   "outputs": [],
   "source": [
    "@value\n",
    "struct MyPet:\n",
    "    var name: String\n",
    "    var age: Int"
   ]
  },
  {
   "cell_type": "markdown",
   "metadata": {},
   "source": [
    "Mojo will notice that you don't have a member-wise initializer, a move\n",
    "constructor, or a copy constructor, and it will synthesize these for you as if\n",
    "you had written:"
   ]
  },
  {
   "cell_type": "code",
   "execution_count": 7,
   "metadata": {},
   "outputs": [],
   "source": [
    "struct MyPet:\n",
    "    var name: String\n",
    "    var age: Int\n",
    "\n",
    "    fn __init__(inout self, owned name: String, age: Int):\n",
    "        self.name = name^\n",
    "        self.age = age\n",
    "\n",
    "    fn __copyinit__(inout self, existing: Self):\n",
    "        self.name = existing.name\n",
    "        self.age = existing.age\n",
    "\n",
    "    fn __moveinit__(inout self, owned existing: Self):\n",
    "        self.name = existing.name^\n",
    "        self.age = existing.age"
   ]
  },
  {
   "cell_type": "markdown",
   "metadata": {},
   "source": [
    "Without the copy and move constructors, the following code would not work\n",
    "because Mojo would not know how to copy an instance of `MyPet`:"
   ]
  },
  {
   "cell_type": "code",
   "execution_count": 8,
   "metadata": {},
   "outputs": [
    {
     "name": "stdout",
     "output_type": "stream",
     "text": [
      "Charlie\n"
     ]
    }
   ],
   "source": [
    "let dog = MyPet(\"Charlie\", 5)\n",
    "let poodle = dog\n",
    "print(poodle.name)"
   ]
  },
  {
   "cell_type": "markdown",
   "metadata": {},
   "source": [
    "When you add the `@value` decorator, Mojo synthesizes each special method above\n",
    "if it doesn't exist already. That is, if you use `@value`, you can still\n",
    "implement a custom version for each of these methods.\n",
    "\n",
    "In addition to the `inout` modifier you already saw with `__init__()`, this code\n",
    "also includes `owned`, which is another modifier that's described in a later\n",
    "section about [ownership](/mojo/manual/values/).\n",
    "\n",
    "**Note:** Although we mentioned the `__del__()` special method, even the\n",
    "`@value` decorator doesn't generate it because Mojo already knows how to\n",
    "destruct all the fields (`String` and `Int` types) used in `MyPet`.\n"
   ]
  }
 ],
 "metadata": {
  "kernelspec": {
   "display_name": "Mojo",
   "language": "mojo",
   "name": "mojo-jupyter-kernel"
  },
  "language_info": {
   "codemirror_mode": {
    "name": "mojo"
   },
   "file_extension": ".mojo",
   "mimetype": "text/x-mojo",
   "name": "mojo"
  },
  "orig_nbformat": 4
 },
 "nbformat": 4,
 "nbformat_minor": 2
}
