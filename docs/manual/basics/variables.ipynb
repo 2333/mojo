{
 "cells": [
  {
   "cell_type": "raw",
   "metadata": {},
   "source": [
    "---\n",
    "title: Variables\n",
    "order: 3\n",
    "description: Introduction to Mojo variables.\n",
    "css: /static/styles/page-navigation.css\n",
    "website:\n",
    "  open-graph:\n",
    "    image: /static/images/mojo-social-card.png\n",
    "  twitter-card:\n",
    "    image: /static/images/mojo-social-card.png\n",
    "---"
   ]
  },
  {
   "attachments": {},
   "cell_type": "markdown",
   "metadata": {},
   "source": [
    "A variable is any name that holds a value or object, and it can be either\n",
    "mutable and immutable—that is, it can either \"mutate\" (change) or it can't."
   ]
  },
  {
   "cell_type": "markdown",
   "metadata": {},
   "source": [
    "## Undeclared variables\n",
    "\n",
    "Within a `def` function or a REPL environment, Mojo allows you to create a\n",
    "variable with just a name and a value. For example:"
   ]
  },
  {
   "cell_type": "code",
   "execution_count": 1,
   "metadata": {},
   "outputs": [],
   "source": [
    "name = \"Sam\""
   ]
  },
  {
   "cell_type": "markdown",
   "metadata": {},
   "source": [
    "This is called an undeclared variable because it doesn't use the `var` or\n",
    "`let` declarations, described below. Undeclared variables are always mutable\n",
    "(you can change the value later), which provides the same behavior as Python.\n",
    "\n",
    "However, undeclared variables not allowed in an `fn` function."
   ]
  },
  {
   "cell_type": "markdown",
   "metadata": {},
   "source": [
    "## Declared mutable `var` and immutable `let` variables\n",
    "\n",
    "You can declare a variable as mutable with `var` or immutable\n",
    "with `let`. For example:"
   ]
  },
  {
   "cell_type": "code",
   "execution_count": 2,
   "metadata": {},
   "outputs": [],
   "source": [
    "var name = \"Sam\"  # This can be assigned a new value later\n",
    "let user_id = 42  # This can be assigned a value only once"
   ]
  },
  {
   "attachments": {},
   "cell_type": "markdown",
   "metadata": {},
   "source": [
    "The `name` variable is mutable, so you can change it later, but if you try to\n",
    "change `id` after it is defined, the Mojo compiler won't allow it.\n",
    "\n",
    "**Note:** All variables in an `fn` function must be declared with `var` or\n",
    "`let`. These declarations are optional in a `def` function.\n",
    "\n",
    "Using `var` helps prevent runtime errors caused by typos. For example, if you\n",
    "misspell the name of an [undeclared variable](#undeclared-variables), Mojo\n",
    "simply instantiates a new variable using the misspelled name. But when all\n",
    "mutable variables must be first declared with `var` (which is the case inside\n",
    "an `fn` function), then misspellings such as the following are caught by the\n",
    "compiler:\n",
    "\n",
    "```\n",
    "var name = \"Sam\"\n",
    "# Somewhere later...\n",
    "nane = \"Sammy\"  # This is not allowed in an `fn` function\n",
    "```\n",
    "\n",
    "So, although using `var` is optional in a `def` function, the benefit is\n",
    "realized only when used inside an `fn` function, where the Mojo compiler will\n",
    "flag undeclared variables (such as the above `nane`) as unknown declarations.\n",
    "\n",
    "Whereas, declaring an immutable `let` variable (also known as a \"constant\") is\n",
    "useful in any situation where you want to avoid bugs that can occur when a\n",
    "value is supposed to remain the same but is accidentally changed anyway. By\n",
    "using `let`, the compiler catches these mistakes (in `def` and `fn` functions),\n",
    "so they don't cause errors at runtime. Also, because the `let` value is\n",
    "guaranteed to not change at runtime, the compiler can make some performance\n",
    "optimizations.\n",
    "\n",
    "**Note:** When using Mojo in a REPL environment, top-level variables (variables\n",
    "that live outside a function or struct) are treated like variables in a `def`\n",
    "(they do not require `var` or `let` declarations). This matches the Python REPL\n",
    "behavior to allow simple script-style programming."
   ]
  },
  {
   "attachments": {},
   "cell_type": "markdown",
   "metadata": {},
   "source": [
    "## Type specifiers\n",
    "\n",
    "Although Mojo allows for dynamic types (like Python), it also supports static\n",
    "type declarations for variables. However, you **must** specify the types for\n",
    "arguments and return values in an [`fn`\n",
    "function](/mojo/manual/basics/functions.html).\n",
    "\n",
    "To specify the type for a variable, add a colon and type name after the\n",
    "name. For example:"
   ]
  },
  {
   "cell_type": "code",
   "execution_count": 3,
   "metadata": {},
   "outputs": [],
   "source": [
    "var name: String = \"Sam\""
   ]
  },
  {
   "cell_type": "markdown",
   "metadata": {},
   "source": [
    ":::{.callout-note}\n",
    "\n",
    "**Note:** You must declare `var` or `let` in order to specify the type\n",
    "(undeclared variables do not support static type specifiers).\n",
    "\n",
    ":::"
   ]
  },
  {
   "cell_type": "markdown",
   "metadata": {},
   "source": [
    "When a type has a constructor that takes a single value, like a `String` or\n",
    "`Int`, you can initialize it in either of these ways:"
   ]
  },
  {
   "cell_type": "code",
   "execution_count": 3,
   "metadata": {},
   "outputs": [],
   "source": [
    "var name1: String = \"Sam\"\n",
    "var name2 = String(\"Sam\")"
   ]
  },
  {
   "cell_type": "markdown",
   "metadata": {},
   "source": [
    "Both lines invoke the constructor and both variables are statically typed.\n",
    "\n",
    "Type specifiers also allow late initialization (notice that the `z` variable is\n",
    "first declared with its type, but the value is assigned later):"
   ]
  },
  {
   "cell_type": "code",
   "execution_count": 4,
   "metadata": {},
   "outputs": [
    {
     "name": "stdout",
     "output_type": "stream",
     "text": [
      "1.0\n"
     ]
    }
   ],
   "source": [
    "fn your_function(x: Int):\n",
    "    let z: Float32\n",
    "    if x != 0:\n",
    "        z = 1.0\n",
    "    else:\n",
    "        z = foo()\n",
    "    print(z)\n",
    "\n",
    "fn foo() -> Float32:\n",
    "    return 3.14\n",
    "\n",
    "your_function(42)"
   ]
  },
  {
   "cell_type": "markdown",
   "metadata": {},
   "source": [
    "## Variable scopes\n",
    "\n",
    "Variables declared with `var` and `let` are bound by **lexical scoping**. This\n",
    "means that nested code blocks can read and modify variables defined in an\n",
    "outer scope. Conversely, an outer scope cannot read variables defined in an\n",
    "inner scope at all.\n",
    "\n",
    "For example, the `if` code block shown here creates an inner scope where outter\n",
    "variables are accessible to read/write, but any new variables do not live\n",
    "beyond the scope of the `if` block:"
   ]
  },
  {
   "cell_type": "code",
   "execution_count": 5,
   "metadata": {},
   "outputs": [
    {
     "name": "stdout",
     "output_type": "stream",
     "text": [
      "num: 10\n",
      "num: 20\n",
      "num: 10\n",
      "dig: 2\n"
     ]
    }
   ],
   "source": [
    "def lexical_scopes():\n",
    "    let num = 10\n",
    "    var dig = 1\n",
    "    if True:\n",
    "        print(\"num:\", num)  # Reads the outer-scope \"num\"\n",
    "        let num = 20        # Creates new inner-scope \"num\"\n",
    "        print(\"num:\", num)  # Reads the inner-scope \"num\"\n",
    "        dig = 2             # Edits the outer-scope \"dig\"\n",
    "    print(\"num:\", num)      # Reads the outer-scope \"num\"\n",
    "    print(\"dig:\", dig)      # Reads the outer-scope \"dig\"\n",
    "\n",
    "lexical_scopes()"
   ]
  },
  {
   "cell_type": "markdown",
   "metadata": {},
   "source": [
    "The lifetime of the inner `num` ends exactly where the `if` code block ends,\n",
    "because that's the scope in which the variable was defined.\n",
    "\n",
    "This is in contrast to undeclared variables (those without the `var` or `let`\n",
    "keyword), which use **function-level scoping** (consistent with Python variable\n",
    "behavior). That means, when you change the value of an undeclared variable\n",
    "inside the `if` block, it actually changes the value for the entire function.\n",
    "\n",
    "For example, here's the same code but *without* the `let` declarations:"
   ]
  },
  {
   "cell_type": "code",
   "execution_count": 6,
   "metadata": {},
   "outputs": [
    {
     "name": "stdout",
     "output_type": "stream",
     "text": [
      "1\n",
      "2\n",
      "2\n"
     ]
    }
   ],
   "source": [
    "def function_scopes():\n",
    "    num = 1\n",
    "    if num == 1:\n",
    "        print(num)   # Reads the function-scope \"num\"\n",
    "        num = 2      # Updates the function-scope variable\n",
    "        print(num)   # Reads the function-scope \"num\"\n",
    "    print(num)       # Reads the function-scope \"num\"\n",
    "\n",
    "function_scopes()"
   ]
  },
  {
   "cell_type": "markdown",
   "metadata": {},
   "source": [
    "Now, the last `print()` function sees the updated `num` value from the inner\n",
    "scope, because undeclared variables (Python-style variables) use function-level\n",
    "scope (instead of lexical scope)."
   ]
  }
 ],
 "metadata": {
  "kernelspec": {
   "display_name": "Mojo",
   "language": "mojo",
   "name": "mojo-jupyter-kernel"
  },
  "language_info": {
   "codemirror_mode": {
    "name": "mojo"
   },
   "file_extension": ".mojo",
   "mimetype": "text/x-mojo",
   "name": "mojo"
  },
  "orig_nbformat": 4
 },
 "nbformat": 4,
 "nbformat_minor": 2
}
